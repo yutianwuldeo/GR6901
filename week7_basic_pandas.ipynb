{
 "cells": [
  {
   "cell_type": "markdown",
   "metadata": {},
   "source": [
    "# Pandas Fundamentals"
   ]
  },
  {
   "cell_type": "markdown",
   "metadata": {},
   "source": [
    "Pandas [overview](https://pandas.pydata.org/docs/getting_started/overview.html)."
   ]
  },
  {
   "cell_type": "code",
   "execution_count": 3,
   "metadata": {
    "tags": []
   },
   "outputs": [],
   "source": [
    "import pandas as pd\n",
    "import numpy as np\n",
    "from matplotlib import pyplot as plt\n",
    "%matplotlib inline"
   ]
  },
  {
   "cell_type": "markdown",
   "metadata": {
    "tags": []
   },
   "source": [
    "## Pandas Data Structures: Series\n",
    "\n",
    "A Series represents a one-dimensional array of data. The main difference between a Series and numpy array is that a Series has an _index_. The index contains the labels that we use to access the data.\n",
    "\n",
    "![pandas Series](https://github.com/pandas-dev/pandas/raw/main/doc/source/_static/schemas/01_table_series.svg \"Schematic of a pandas Series\")\n",
    "\n",
    "There are many ways to [create a Series](https://pandas.pydata.org/pandas-docs/stable/dsintro.html#series). We will just show a few.\n",
    "\n",
    "(Data are from the NASA [Planetary Fact Sheet](https://nssdc.gsfc.nasa.gov/planetary/factsheet/).)"
   ]
  },
  {
   "cell_type": "code",
   "execution_count": 48,
   "metadata": {},
   "outputs": [
    {
     "data": {
      "text/plain": [
       "Mercury    3.000000e+23\n",
       "Venus      4.870000e+24\n",
       "Earth      5.970000e+24\n",
       "dtype: float64"
      ]
     },
     "execution_count": 48,
     "metadata": {},
     "output_type": "execute_result"
    }
   ],
   "source": [
    "names = ['Mercury', 'Venus', 'Earth']\n",
    "values = [0.3e24, 4.87e24, 5.97e24]\n",
    "masses = pd.Series(values, index=names) # pd.Series(data, index)\n",
    "masses"
   ]
  },
  {
   "cell_type": "markdown",
   "metadata": {},
   "source": [
    "Series have built in plotting methods."
   ]
  },
  {
   "cell_type": "code",
   "execution_count": 8,
   "metadata": {},
   "outputs": [
    {
     "data": {
      "text/plain": [
       "<Axes: >"
      ]
     },
     "execution_count": 8,
     "metadata": {},
     "output_type": "execute_result"
    },
    {
     "data": {
      "image/png": "[encoded data removed]",
      "text/plain": [
       "<Figure size 640x480 with 1 Axes>"
      ]
     },
     "metadata": {},
     "output_type": "display_data"
    }
   ],
   "source": [
    "masses.plot(kind='bar') # https://pandas.pydata.org/docs/reference/api/pandas.Series.plot.html"
   ]
  },
  {
   "cell_type": "markdown",
   "metadata": {},
   "source": [
    "Arithmetic operations and most numpy function can be applied to Series.\n",
    "An important point is that the Series keep their index during such operations."
   ]
  },
  {
   "cell_type": "code",
   "execution_count": 9,
   "metadata": {},
   "outputs": [
    {
     "data": {
      "text/plain": [
       "Mercury    6.006452e-46\n",
       "Venus      2.396820e-48\n",
       "Earth      1.600655e-48\n",
       "dtype: float64"
      ]
     },
     "execution_count": 9,
     "metadata": {},
     "output_type": "execute_result"
    }
   ],
   "source": [
    "np.log(masses) / masses**2"
   ]
  },
  {
   "cell_type": "markdown",
   "metadata": {},
   "source": [
    "We can access the underlying index object if we need to:"
   ]
  },
  {
   "cell_type": "code",
   "execution_count": 13,
   "metadata": {},
   "outputs": [
    {
     "data": {
      "text/plain": [
       "Index(['Mercury', 'Venus', 'Earth'], dtype='object')"
      ]
     },
     "execution_count": 13,
     "metadata": {},
     "output_type": "execute_result"
    }
   ],
   "source": [
    "masses.index"
   ]
  },
  {
   "cell_type": "markdown",
   "metadata": {},
   "source": [
    "### Indexing\n",
    "\n",
    "We can get values back out using the index via the `.loc` attribute"
   ]
  },
  {
   "cell_type": "code",
   "execution_count": 53,
   "metadata": {},
   "outputs": [
    {
     "data": {
      "text/plain": [
       "5.97e+24"
      ]
     },
     "execution_count": 53,
     "metadata": {},
     "output_type": "execute_result"
    }
   ],
   "source": [
    "masses.loc['Earth'] # masses.Earth or masses['Earth'] would also work"
   ]
  },
  {
   "cell_type": "markdown",
   "metadata": {},
   "source": [
    "Or by raw position using `.iloc`"
   ]
  },
  {
   "cell_type": "code",
   "execution_count": 15,
   "metadata": {},
   "outputs": [
    {
     "data": {
      "text/plain": [
       "5.97e+24"
      ]
     },
     "execution_count": 15,
     "metadata": {},
     "output_type": "execute_result"
    }
   ],
   "source": [
    "masses.iloc[2]"
   ]
  },
  {
   "cell_type": "markdown",
   "metadata": {},
   "source": [
    "We can pass a list or array to loc to get multiple rows back:"
   ]
  },
  {
   "cell_type": "code",
   "execution_count": 9,
   "metadata": {},
   "outputs": [
    {
     "data": {
      "text/plain": [
       "Venus    4.870000e+24\n",
       "Earth    5.970000e+24\n",
       "dtype: float64"
      ]
     },
     "execution_count": 9,
     "metadata": {},
     "output_type": "execute_result"
    }
   ],
   "source": [
    "masses.loc[['Venus', 'Earth']]"
   ]
  },
  {
   "cell_type": "markdown",
   "metadata": {},
   "source": [
    "And we can even use slice notation"
   ]
  },
  {
   "cell_type": "code",
   "execution_count": 10,
   "metadata": {},
   "outputs": [
    {
     "data": {
      "text/plain": [
       "Mercury    3.000000e+23\n",
       "Venus      4.870000e+24\n",
       "Earth      5.970000e+24\n",
       "dtype: float64"
      ]
     },
     "execution_count": 10,
     "metadata": {},
     "output_type": "execute_result"
    }
   ],
   "source": [
    "masses.loc['Mercury':'Earth']"
   ]
  },
  {
   "cell_type": "code",
   "execution_count": 16,
   "metadata": {},
   "outputs": [
    {
     "data": {
      "text/plain": [
       "Mercury    3.000000e+23\n",
       "Venus      4.870000e+24\n",
       "dtype: float64"
      ]
     },
     "execution_count": 16,
     "metadata": {},
     "output_type": "execute_result"
    }
   ],
   "source": [
    "masses.iloc[:2]"
   ]
  },
  {
   "cell_type": "markdown",
   "metadata": {},
   "source": [
    "If we need to, we can always get the raw data back out as well"
   ]
  },
  {
   "cell_type": "code",
   "execution_count": 17,
   "metadata": {},
   "outputs": [
    {
     "data": {
      "text/plain": [
       "array([3.00e+23, 4.87e+24, 5.97e+24])"
      ]
     },
     "execution_count": 17,
     "metadata": {},
     "output_type": "execute_result"
    }
   ],
   "source": [
    "masses.values # a numpy array"
   ]
  },
  {
   "cell_type": "code",
   "execution_count": 12,
   "metadata": {},
   "outputs": [
    {
     "data": {
      "text/plain": [
       "Index(['Mercury', 'Venus', 'Earth'], dtype='object')"
      ]
     },
     "execution_count": 12,
     "metadata": {},
     "output_type": "execute_result"
    }
   ],
   "source": [
    "masses.index # a pandas Index object"
   ]
  },
  {
   "cell_type": "markdown",
   "metadata": {},
   "source": [
    "## Pandas Data Structures: DataFrame\n",
    "\n",
    "There is a lot more to Series, but they are limit to a single \"column\". A more useful Pandas data structure is the DataFrame. A DataFrame is basically a bunch of series that share the same index. It's a lot like a table in a spreadsheet.\n",
    "\n",
    "![dataframe schematic](https://github.com/pandas-dev/pandas/raw/main/doc/source/_static/schemas/01_table_dataframe.svg \"Schematic of a pandas DataFrame\")\n",
    "\n",
    "The `columns` that make up our `DataFrame` can be lists, dictionaries, NumPy arrays, pandas `Series`, or many other data types not mentioned here. Within these `columns`, you can have data values of many different data types used in Python and NumPy, including text, numbers, and dates/times. The first column of a `DataFrame`, shown in the image above in dark gray, is uniquely referred to as an `index`; this column contains information characterizing each row of our `DataFrame`. Similar to any other `column`, the `index` can label rows by text, numbers, datetime objects, and many other data types. Datetime objects are a quite popular way to label rows.\n",
    "\n",
    "Below we create a DataFrame."
   ]
  },
  {
   "cell_type": "code",
   "execution_count": 4,
   "metadata": {},
   "outputs": [
    {
     "data": {
      "text/html": [
       "<div>\n",
       "<style scoped>\n",
       "    .dataframe tbody tr th:only-of-type {\n",
       "        vertical-align: middle;\n",
       "    }\n",
       "\n",
       "    .dataframe tbody tr th {\n",
       "        vertical-align: top;\n",
       "    }\n",
       "\n",
       "    .dataframe thead th {\n",
       "        text-align: right;\n",
       "    }\n",
       "</style>\n",
       "<table border=\"1\" class=\"dataframe\">\n",
       "  <thead>\n",
       "    <tr style=\"text-align: right;\">\n",
       "      <th></th>\n",
       "      <th>mass</th>\n",
       "      <th>diameter</th>\n",
       "      <th>rotation_period</th>\n",
       "    </tr>\n",
       "  </thead>\n",
       "  <tbody>\n",
       "    <tr>\n",
       "      <th>Mercury</th>\n",
       "      <td>3.000000e+23</td>\n",
       "      <td>4879000.0</td>\n",
       "      <td>1407.6</td>\n",
       "    </tr>\n",
       "    <tr>\n",
       "      <th>Venus</th>\n",
       "      <td>4.870000e+24</td>\n",
       "      <td>12104000.0</td>\n",
       "      <td>NaN</td>\n",
       "    </tr>\n",
       "    <tr>\n",
       "      <th>Earth</th>\n",
       "      <td>5.970000e+24</td>\n",
       "      <td>12756000.0</td>\n",
       "      <td>23.9</td>\n",
       "    </tr>\n",
       "  </tbody>\n",
       "</table>\n",
       "</div>"
      ],
      "text/plain": [
       "                 mass    diameter  rotation_period\n",
       "Mercury  3.000000e+23   4879000.0           1407.6\n",
       "Venus    4.870000e+24  12104000.0              NaN\n",
       "Earth    5.970000e+24  12756000.0             23.9"
      ]
     },
     "execution_count": 4,
     "metadata": {},
     "output_type": "execute_result"
    }
   ],
   "source": [
    "# first we create a dictionary\n",
    "data = {'mass': [0.3e24, 4.87e24, 5.97e24],       # kg\n",
    "        'diameter': [4879e3, 12_104e3, 12_756e3], # m\n",
    "        'rotation_period': [1407.6, np.nan, 23.9] # h\n",
    "       }\n",
    "df = pd.DataFrame(data, index=['Mercury', 'Venus', 'Earth'])\n",
    "df"
   ]
  },
  {
   "cell_type": "markdown",
   "metadata": {},
   "source": [
    "Pandas handles missing data very elegantly, keeping track of it through all calculations."
   ]
  },
  {
   "cell_type": "code",
   "execution_count": 20,
   "metadata": {},
   "outputs": [
    {
     "name": "stdout",
     "output_type": "stream",
     "text": [
      "<class 'pandas.core.frame.DataFrame'>\n",
      "Index: 3 entries, Mercury to Earth\n",
      "Data columns (total 3 columns):\n",
      " #   Column           Non-Null Count  Dtype  \n",
      "---  ------           --------------  -----  \n",
      " 0   mass             3 non-null      float64\n",
      " 1   diameter         3 non-null      float64\n",
      " 2   rotation_period  2 non-null      float64\n",
      "dtypes: float64(3)\n",
      "memory usage: 96.0+ bytes\n"
     ]
    }
   ],
   "source": [
    "df.info()"
   ]
  },
  {
   "cell_type": "markdown",
   "metadata": {},
   "source": [
    "A wide range of statistical functions are available on both Series and DataFrames."
   ]
  },
  {
   "cell_type": "code",
   "execution_count": 16,
   "metadata": {},
   "outputs": [
    {
     "data": {
      "text/plain": [
       "mass               3.000000e+23\n",
       "diameter           4.879000e+06\n",
       "rotation_period    2.390000e+01\n",
       "dtype: float64"
      ]
     },
     "execution_count": 16,
     "metadata": {},
     "output_type": "execute_result"
    }
   ],
   "source": [
    "df.min() # see its handling of missing data "
   ]
  },
  {
   "cell_type": "code",
   "execution_count": 17,
   "metadata": {},
   "outputs": [
    {
     "data": {
      "text/plain": [
       "mass               3.713333e+24\n",
       "diameter           9.913000e+06\n",
       "rotation_period    7.157500e+02\n",
       "dtype: float64"
      ]
     },
     "execution_count": 17,
     "metadata": {},
     "output_type": "execute_result"
    }
   ],
   "source": [
    "df.mean()"
   ]
  },
  {
   "cell_type": "code",
   "execution_count": 18,
   "metadata": {},
   "outputs": [
    {
     "data": {
      "text/plain": [
       "mass               3.006765e+24\n",
       "diameter           4.371744e+06\n",
       "rotation_period    9.784237e+02\n",
       "dtype: float64"
      ]
     },
     "execution_count": 18,
     "metadata": {},
     "output_type": "execute_result"
    }
   ],
   "source": [
    "df.std()"
   ]
  },
  {
   "cell_type": "code",
   "execution_count": 19,
   "metadata": {},
   "outputs": [
    {
     "data": {
      "text/html": [
       "<div>\n",
       "<style scoped>\n",
       "    .dataframe tbody tr th:only-of-type {\n",
       "        vertical-align: middle;\n",
       "    }\n",
       "\n",
       "    .dataframe tbody tr th {\n",
       "        vertical-align: top;\n",
       "    }\n",
       "\n",
       "    .dataframe thead th {\n",
       "        text-align: right;\n",
       "    }\n",
       "</style>\n",
       "<table border=\"1\" class=\"dataframe\">\n",
       "  <thead>\n",
       "    <tr style=\"text-align: right;\">\n",
       "      <th></th>\n",
       "      <th>mass</th>\n",
       "      <th>diameter</th>\n",
       "      <th>rotation_period</th>\n",
       "    </tr>\n",
       "  </thead>\n",
       "  <tbody>\n",
       "    <tr>\n",
       "      <th>count</th>\n",
       "      <td>3.000000e+00</td>\n",
       "      <td>3.000000e+00</td>\n",
       "      <td>2.000000</td>\n",
       "    </tr>\n",
       "    <tr>\n",
       "      <th>mean</th>\n",
       "      <td>3.713333e+24</td>\n",
       "      <td>9.913000e+06</td>\n",
       "      <td>715.750000</td>\n",
       "    </tr>\n",
       "    <tr>\n",
       "      <th>std</th>\n",
       "      <td>3.006765e+24</td>\n",
       "      <td>4.371744e+06</td>\n",
       "      <td>978.423653</td>\n",
       "    </tr>\n",
       "    <tr>\n",
       "      <th>min</th>\n",
       "      <td>3.000000e+23</td>\n",
       "      <td>4.879000e+06</td>\n",
       "      <td>23.900000</td>\n",
       "    </tr>\n",
       "    <tr>\n",
       "      <th>25%</th>\n",
       "      <td>2.585000e+24</td>\n",
       "      <td>8.491500e+06</td>\n",
       "      <td>369.825000</td>\n",
       "    </tr>\n",
       "    <tr>\n",
       "      <th>50%</th>\n",
       "      <td>4.870000e+24</td>\n",
       "      <td>1.210400e+07</td>\n",
       "      <td>715.750000</td>\n",
       "    </tr>\n",
       "    <tr>\n",
       "      <th>75%</th>\n",
       "      <td>5.420000e+24</td>\n",
       "      <td>1.243000e+07</td>\n",
       "      <td>1061.675000</td>\n",
       "    </tr>\n",
       "    <tr>\n",
       "      <th>max</th>\n",
       "      <td>5.970000e+24</td>\n",
       "      <td>1.275600e+07</td>\n",
       "      <td>1407.600000</td>\n",
       "    </tr>\n",
       "  </tbody>\n",
       "</table>\n",
       "</div>"
      ],
      "text/plain": [
       "               mass      diameter  rotation_period\n",
       "count  3.000000e+00  3.000000e+00         2.000000\n",
       "mean   3.713333e+24  9.913000e+06       715.750000\n",
       "std    3.006765e+24  4.371744e+06       978.423653\n",
       "min    3.000000e+23  4.879000e+06        23.900000\n",
       "25%    2.585000e+24  8.491500e+06       369.825000\n",
       "50%    4.870000e+24  1.210400e+07       715.750000\n",
       "75%    5.420000e+24  1.243000e+07      1061.675000\n",
       "max    5.970000e+24  1.275600e+07      1407.600000"
      ]
     },
     "execution_count": 19,
     "metadata": {},
     "output_type": "execute_result"
    }
   ],
   "source": [
    "df.describe() # generate descriptive statistics, excluding NaN values"
   ]
  },
  {
   "cell_type": "markdown",
   "metadata": {},
   "source": [
    "We can get a single column as a Series using python's getitem syntax on the DataFrame object."
   ]
  },
  {
   "cell_type": "code",
   "execution_count": 45,
   "metadata": {},
   "outputs": [
    {
     "data": {
      "text/plain": [
       "Mercury    3.000000e+23\n",
       "Venus      4.870000e+24\n",
       "Earth      5.980000e+24\n",
       "Name: mass, dtype: float64"
      ]
     },
     "execution_count": 45,
     "metadata": {},
     "output_type": "execute_result"
    }
   ],
   "source": [
    "df['mass']"
   ]
  },
  {
   "cell_type": "markdown",
   "metadata": {},
   "source": [
    "...or using attribute syntax."
   ]
  },
  {
   "cell_type": "code",
   "execution_count": 22,
   "metadata": {},
   "outputs": [
    {
     "data": {
      "text/plain": [
       "Mercury    3.000000e+23\n",
       "Venus      4.870000e+24\n",
       "Earth      5.970000e+24\n",
       "Name: mass, dtype: float64"
      ]
     },
     "execution_count": 22,
     "metadata": {},
     "output_type": "execute_result"
    }
   ],
   "source": [
    "df.mass"
   ]
  },
  {
   "cell_type": "markdown",
   "metadata": {},
   "source": [
    "Indexing works very similar to series"
   ]
  },
  {
   "cell_type": "code",
   "execution_count": 55,
   "metadata": {},
   "outputs": [
    {
     "data": {
      "text/plain": [
       "mass               5980000000000000511705088.0\n",
       "diameter                            12756000.0\n",
       "rotation_period                           23.9\n",
       "density                            5493.285577\n",
       "is_big                                    True\n",
       "Name: Earth, dtype: object"
      ]
     },
     "execution_count": 55,
     "metadata": {},
     "output_type": "execute_result"
    }
   ],
   "source": [
    "df.loc['Earth'] # access a group of rows and columns by label(s) or a boolean array"
   ]
  },
  {
   "cell_type": "code",
   "execution_count": 56,
   "metadata": {},
   "outputs": [
    {
     "data": {
      "text/plain": [
       "Mercury    3.000000e+23\n",
       "Venus      4.870000e+24\n",
       "Earth      5.980000e+24\n",
       "Name: mass, dtype: float64"
      ]
     },
     "execution_count": 56,
     "metadata": {},
     "output_type": "execute_result"
    }
   ],
   "source": [
    "df.loc[:,'mass']"
   ]
  },
  {
   "cell_type": "code",
   "execution_count": 23,
   "metadata": {},
   "outputs": [
    {
     "data": {
      "text/plain": [
       "mass               5.970000e+24\n",
       "diameter           1.275600e+07\n",
       "rotation_period    2.390000e+01\n",
       "Name: Earth, dtype: float64"
      ]
     },
     "execution_count": 23,
     "metadata": {},
     "output_type": "execute_result"
    }
   ],
   "source": [
    "df.iloc[2]"
   ]
  },
  {
   "cell_type": "markdown",
   "metadata": {},
   "source": [
    "But we can also specify the column we want to access"
   ]
  },
  {
   "cell_type": "code",
   "execution_count": 24,
   "metadata": {},
   "outputs": [
    {
     "data": {
      "text/plain": [
       "5.97e+24"
      ]
     },
     "execution_count": 24,
     "metadata": {},
     "output_type": "execute_result"
    }
   ],
   "source": [
    "df.loc['Earth', 'mass']"
   ]
  },
  {
   "cell_type": "code",
   "execution_count": 25,
   "metadata": {},
   "outputs": [
    {
     "data": {
      "text/plain": [
       "Mercury    3.000000e+23\n",
       "Venus      4.870000e+24\n",
       "Name: mass, dtype: float64"
      ]
     },
     "execution_count": 25,
     "metadata": {},
     "output_type": "execute_result"
    }
   ],
   "source": [
    "df.iloc[:2, 0]"
   ]
  },
  {
   "cell_type": "markdown",
   "metadata": {},
   "source": [
    "If we make a calculation using columns from the DataFrame, it will keep the same index:"
   ]
  },
  {
   "cell_type": "code",
   "execution_count": 13,
   "metadata": {},
   "outputs": [
    {
     "data": {
      "text/plain": [
       "Mercury    4933.216530\n",
       "Venus      5244.977070\n",
       "Earth      5493.285577\n",
       "dtype: float64"
      ]
     },
     "execution_count": 13,
     "metadata": {},
     "output_type": "execute_result"
    }
   ],
   "source": [
    "volume =  4/3 * np.pi * (df.diameter/2)**3\n",
    "df.mass / volume"
   ]
  },
  {
   "cell_type": "markdown",
   "metadata": {},
   "source": [
    "Which we can easily add as another column to the DataFrame:"
   ]
  },
  {
   "cell_type": "code",
   "execution_count": 14,
   "metadata": {},
   "outputs": [
    {
     "data": {
      "text/html": [
       "<div>\n",
       "<style scoped>\n",
       "    .dataframe tbody tr th:only-of-type {\n",
       "        vertical-align: middle;\n",
       "    }\n",
       "\n",
       "    .dataframe tbody tr th {\n",
       "        vertical-align: top;\n",
       "    }\n",
       "\n",
       "    .dataframe thead th {\n",
       "        text-align: right;\n",
       "    }\n",
       "</style>\n",
       "<table border=\"1\" class=\"dataframe\">\n",
       "  <thead>\n",
       "    <tr style=\"text-align: right;\">\n",
       "      <th></th>\n",
       "      <th>mass</th>\n",
       "      <th>diameter</th>\n",
       "      <th>rotation_period</th>\n",
       "      <th>density</th>\n",
       "    </tr>\n",
       "  </thead>\n",
       "  <tbody>\n",
       "    <tr>\n",
       "      <th>Mercury</th>\n",
       "      <td>3.000000e+23</td>\n",
       "      <td>4879000.0</td>\n",
       "      <td>1407.6</td>\n",
       "      <td>4933.216530</td>\n",
       "    </tr>\n",
       "    <tr>\n",
       "      <th>Venus</th>\n",
       "      <td>4.870000e+24</td>\n",
       "      <td>12104000.0</td>\n",
       "      <td>NaN</td>\n",
       "      <td>5244.977070</td>\n",
       "    </tr>\n",
       "    <tr>\n",
       "      <th>Earth</th>\n",
       "      <td>5.970000e+24</td>\n",
       "      <td>12756000.0</td>\n",
       "      <td>23.9</td>\n",
       "      <td>5493.285577</td>\n",
       "    </tr>\n",
       "  </tbody>\n",
       "</table>\n",
       "</div>"
      ],
      "text/plain": [
       "                 mass    diameter  rotation_period      density\n",
       "Mercury  3.000000e+23   4879000.0           1407.6  4933.216530\n",
       "Venus    4.870000e+24  12104000.0              NaN  5244.977070\n",
       "Earth    5.970000e+24  12756000.0             23.9  5493.285577"
      ]
     },
     "execution_count": 14,
     "metadata": {},
     "output_type": "execute_result"
    }
   ],
   "source": [
    "df['density'] = df.mass / volume\n",
    "df"
   ]
  },
  {
   "cell_type": "markdown",
   "metadata": {},
   "source": [
    "## Merging Data\n",
    "\n",
    "Pandas supports a wide range of methods for merging different datasets. These are described extensively in the [documentation](https://pandas.pydata.org/pandas-docs/stable/merging.html). Here we just give a few examples."
   ]
  },
  {
   "cell_type": "code",
   "execution_count": 15,
   "metadata": {},
   "outputs": [
    {
     "data": {
      "text/plain": [
       "Mercury    167\n",
       "Venus      464\n",
       "Earth       15\n",
       "Mars       -65\n",
       "Name: temperature, dtype: int64"
      ]
     },
     "execution_count": 15,
     "metadata": {},
     "output_type": "execute_result"
    }
   ],
   "source": [
    "temperature = pd.Series([167, 464, 15, -65],\n",
    "                     index=['Mercury', 'Venus', 'Earth', 'Mars'],\n",
    "                     name='temperature')\n",
    "temperature"
   ]
  },
  {
   "cell_type": "code",
   "execution_count": 16,
   "metadata": {},
   "outputs": [
    {
     "data": {
      "text/html": [
       "<div>\n",
       "<style scoped>\n",
       "    .dataframe tbody tr th:only-of-type {\n",
       "        vertical-align: middle;\n",
       "    }\n",
       "\n",
       "    .dataframe tbody tr th {\n",
       "        vertical-align: top;\n",
       "    }\n",
       "\n",
       "    .dataframe thead th {\n",
       "        text-align: right;\n",
       "    }\n",
       "</style>\n",
       "<table border=\"1\" class=\"dataframe\">\n",
       "  <thead>\n",
       "    <tr style=\"text-align: right;\">\n",
       "      <th></th>\n",
       "      <th>mass</th>\n",
       "      <th>diameter</th>\n",
       "      <th>rotation_period</th>\n",
       "      <th>density</th>\n",
       "      <th>temperature</th>\n",
       "    </tr>\n",
       "  </thead>\n",
       "  <tbody>\n",
       "    <tr>\n",
       "      <th>Mercury</th>\n",
       "      <td>3.000000e+23</td>\n",
       "      <td>4879000.0</td>\n",
       "      <td>1407.6</td>\n",
       "      <td>4933.216530</td>\n",
       "      <td>167</td>\n",
       "    </tr>\n",
       "    <tr>\n",
       "      <th>Venus</th>\n",
       "      <td>4.870000e+24</td>\n",
       "      <td>12104000.0</td>\n",
       "      <td>NaN</td>\n",
       "      <td>5244.977070</td>\n",
       "      <td>464</td>\n",
       "    </tr>\n",
       "    <tr>\n",
       "      <th>Earth</th>\n",
       "      <td>5.970000e+24</td>\n",
       "      <td>12756000.0</td>\n",
       "      <td>23.9</td>\n",
       "      <td>5493.285577</td>\n",
       "      <td>15</td>\n",
       "    </tr>\n",
       "  </tbody>\n",
       "</table>\n",
       "</div>"
      ],
      "text/plain": [
       "                 mass    diameter  rotation_period      density  temperature\n",
       "Mercury  3.000000e+23   4879000.0           1407.6  4933.216530          167\n",
       "Venus    4.870000e+24  12104000.0              NaN  5244.977070          464\n",
       "Earth    5.970000e+24  12756000.0             23.9  5493.285577           15"
      ]
     },
     "execution_count": 16,
     "metadata": {},
     "output_type": "execute_result"
    }
   ],
   "source": [
    "# returns a new DataFrame\n",
    "# df.join(other, how='left') left (default): use calling frame’s index\n",
    "df.join(temperature)"
   ]
  },
  {
   "cell_type": "code",
   "execution_count": 17,
   "metadata": {},
   "outputs": [
    {
     "data": {
      "text/html": [
       "<div>\n",
       "<style scoped>\n",
       "    .dataframe tbody tr th:only-of-type {\n",
       "        vertical-align: middle;\n",
       "    }\n",
       "\n",
       "    .dataframe tbody tr th {\n",
       "        vertical-align: top;\n",
       "    }\n",
       "\n",
       "    .dataframe thead th {\n",
       "        text-align: right;\n",
       "    }\n",
       "</style>\n",
       "<table border=\"1\" class=\"dataframe\">\n",
       "  <thead>\n",
       "    <tr style=\"text-align: right;\">\n",
       "      <th></th>\n",
       "      <th>mass</th>\n",
       "      <th>diameter</th>\n",
       "      <th>rotation_period</th>\n",
       "      <th>density</th>\n",
       "      <th>temperature</th>\n",
       "    </tr>\n",
       "  </thead>\n",
       "  <tbody>\n",
       "    <tr>\n",
       "      <th>Mercury</th>\n",
       "      <td>3.000000e+23</td>\n",
       "      <td>4879000.0</td>\n",
       "      <td>1407.6</td>\n",
       "      <td>4933.216530</td>\n",
       "      <td>167</td>\n",
       "    </tr>\n",
       "    <tr>\n",
       "      <th>Venus</th>\n",
       "      <td>4.870000e+24</td>\n",
       "      <td>12104000.0</td>\n",
       "      <td>NaN</td>\n",
       "      <td>5244.977070</td>\n",
       "      <td>464</td>\n",
       "    </tr>\n",
       "    <tr>\n",
       "      <th>Earth</th>\n",
       "      <td>5.970000e+24</td>\n",
       "      <td>12756000.0</td>\n",
       "      <td>23.9</td>\n",
       "      <td>5493.285577</td>\n",
       "      <td>15</td>\n",
       "    </tr>\n",
       "    <tr>\n",
       "      <th>Mars</th>\n",
       "      <td>NaN</td>\n",
       "      <td>NaN</td>\n",
       "      <td>NaN</td>\n",
       "      <td>NaN</td>\n",
       "      <td>-65</td>\n",
       "    </tr>\n",
       "  </tbody>\n",
       "</table>\n",
       "</div>"
      ],
      "text/plain": [
       "                 mass    diameter  rotation_period      density  temperature\n",
       "Mercury  3.000000e+23   4879000.0           1407.6  4933.216530          167\n",
       "Venus    4.870000e+24  12104000.0              NaN  5244.977070          464\n",
       "Earth    5.970000e+24  12756000.0             23.9  5493.285577           15\n",
       "Mars              NaN         NaN              NaN          NaN          -65"
      ]
     },
     "execution_count": 17,
     "metadata": {},
     "output_type": "execute_result"
    }
   ],
   "source": [
    "# returns a new DataFrame\n",
    "# df.join(other, how='right') right: use other’s index\n",
    "df.join(temperature, how='right')"
   ]
  },
  {
   "cell_type": "code",
   "execution_count": 18,
   "metadata": {},
   "outputs": [
    {
     "data": {
      "text/html": [
       "<div>\n",
       "<style scoped>\n",
       "    .dataframe tbody tr th:only-of-type {\n",
       "        vertical-align: middle;\n",
       "    }\n",
       "\n",
       "    .dataframe tbody tr th {\n",
       "        vertical-align: top;\n",
       "    }\n",
       "\n",
       "    .dataframe thead th {\n",
       "        text-align: right;\n",
       "    }\n",
       "</style>\n",
       "<table border=\"1\" class=\"dataframe\">\n",
       "  <thead>\n",
       "    <tr style=\"text-align: right;\">\n",
       "      <th></th>\n",
       "      <th>mass</th>\n",
       "      <th>diameter</th>\n",
       "      <th>rotation_period</th>\n",
       "      <th>density</th>\n",
       "    </tr>\n",
       "  </thead>\n",
       "  <tbody>\n",
       "    <tr>\n",
       "      <th>Mercury</th>\n",
       "      <td>3.000000e+23</td>\n",
       "      <td>4879000.0</td>\n",
       "      <td>1407.6</td>\n",
       "      <td>4933.216530</td>\n",
       "    </tr>\n",
       "    <tr>\n",
       "      <th>Venus</th>\n",
       "      <td>4.870000e+24</td>\n",
       "      <td>12104000.0</td>\n",
       "      <td>NaN</td>\n",
       "      <td>5244.977070</td>\n",
       "    </tr>\n",
       "    <tr>\n",
       "      <th>Earth</th>\n",
       "      <td>5.970000e+24</td>\n",
       "      <td>12756000.0</td>\n",
       "      <td>23.9</td>\n",
       "      <td>5493.285577</td>\n",
       "    </tr>\n",
       "  </tbody>\n",
       "</table>\n",
       "</div>"
      ],
      "text/plain": [
       "                 mass    diameter  rotation_period      density\n",
       "Mercury  3.000000e+23   4879000.0           1407.6  4933.216530\n",
       "Venus    4.870000e+24  12104000.0              NaN  5244.977070\n",
       "Earth    5.970000e+24  12756000.0             23.9  5493.285577"
      ]
     },
     "execution_count": 18,
     "metadata": {},
     "output_type": "execute_result"
    }
   ],
   "source": [
    "df # doesn't change the original dataframe"
   ]
  },
  {
   "cell_type": "code",
   "execution_count": 19,
   "metadata": {},
   "outputs": [
    {
     "data": {
      "text/html": [
       "<div>\n",
       "<style scoped>\n",
       "    .dataframe tbody tr th:only-of-type {\n",
       "        vertical-align: middle;\n",
       "    }\n",
       "\n",
       "    .dataframe tbody tr th {\n",
       "        vertical-align: top;\n",
       "    }\n",
       "\n",
       "    .dataframe thead th {\n",
       "        text-align: right;\n",
       "    }\n",
       "</style>\n",
       "<table border=\"1\" class=\"dataframe\">\n",
       "  <thead>\n",
       "    <tr style=\"text-align: right;\">\n",
       "      <th></th>\n",
       "      <th>mass</th>\n",
       "      <th>diameter</th>\n",
       "      <th>rotation_period</th>\n",
       "      <th>density</th>\n",
       "    </tr>\n",
       "  </thead>\n",
       "  <tbody>\n",
       "    <tr>\n",
       "      <th>Mercury</th>\n",
       "      <td>3.000000e+23</td>\n",
       "      <td>4879000.0</td>\n",
       "      <td>1407.6</td>\n",
       "      <td>4933.216530</td>\n",
       "    </tr>\n",
       "    <tr>\n",
       "      <th>Venus</th>\n",
       "      <td>4.870000e+24</td>\n",
       "      <td>12104000.0</td>\n",
       "      <td>NaN</td>\n",
       "      <td>5244.977070</td>\n",
       "    </tr>\n",
       "    <tr>\n",
       "      <th>Earth</th>\n",
       "      <td>5.970000e+24</td>\n",
       "      <td>12756000.0</td>\n",
       "      <td>23.9</td>\n",
       "      <td>5493.285577</td>\n",
       "    </tr>\n",
       "    <tr>\n",
       "      <th>Mars</th>\n",
       "      <td>NaN</td>\n",
       "      <td>NaN</td>\n",
       "      <td>NaN</td>\n",
       "      <td>NaN</td>\n",
       "    </tr>\n",
       "  </tbody>\n",
       "</table>\n",
       "</div>"
      ],
      "text/plain": [
       "                 mass    diameter  rotation_period      density\n",
       "Mercury  3.000000e+23   4879000.0           1407.6  4933.216530\n",
       "Venus    4.870000e+24  12104000.0              NaN  5244.977070\n",
       "Earth    5.970000e+24  12756000.0             23.9  5493.285577\n",
       "Mars              NaN         NaN              NaN          NaN"
      ]
     },
     "execution_count": 19,
     "metadata": {},
     "output_type": "execute_result"
    }
   ],
   "source": [
    "# returns a new DataFrame\n",
    "everyone = df.reindex(['Mercury', 'Venus', 'Earth', 'Mars'])\n",
    "everyone"
   ]
  },
  {
   "cell_type": "markdown",
   "metadata": {},
   "source": [
    "We can also index using a boolean series. This is very useful"
   ]
  },
  {
   "cell_type": "code",
   "execution_count": 20,
   "metadata": {},
   "outputs": [
    {
     "data": {
      "text/html": [
       "<div>\n",
       "<style scoped>\n",
       "    .dataframe tbody tr th:only-of-type {\n",
       "        vertical-align: middle;\n",
       "    }\n",
       "\n",
       "    .dataframe tbody tr th {\n",
       "        vertical-align: top;\n",
       "    }\n",
       "\n",
       "    .dataframe thead th {\n",
       "        text-align: right;\n",
       "    }\n",
       "</style>\n",
       "<table border=\"1\" class=\"dataframe\">\n",
       "  <thead>\n",
       "    <tr style=\"text-align: right;\">\n",
       "      <th></th>\n",
       "      <th>mass</th>\n",
       "      <th>diameter</th>\n",
       "      <th>rotation_period</th>\n",
       "      <th>density</th>\n",
       "    </tr>\n",
       "  </thead>\n",
       "  <tbody>\n",
       "    <tr>\n",
       "      <th>Venus</th>\n",
       "      <td>4.870000e+24</td>\n",
       "      <td>12104000.0</td>\n",
       "      <td>NaN</td>\n",
       "      <td>5244.977070</td>\n",
       "    </tr>\n",
       "    <tr>\n",
       "      <th>Earth</th>\n",
       "      <td>5.970000e+24</td>\n",
       "      <td>12756000.0</td>\n",
       "      <td>23.9</td>\n",
       "      <td>5493.285577</td>\n",
       "    </tr>\n",
       "  </tbody>\n",
       "</table>\n",
       "</div>"
      ],
      "text/plain": [
       "               mass    diameter  rotation_period      density\n",
       "Venus  4.870000e+24  12104000.0              NaN  5244.977070\n",
       "Earth  5.970000e+24  12756000.0             23.9  5493.285577"
      ]
     },
     "execution_count": 20,
     "metadata": {},
     "output_type": "execute_result"
    }
   ],
   "source": [
    "adults = df[df.mass > 4e24]\n",
    "adults"
   ]
  },
  {
   "cell_type": "code",
   "execution_count": 21,
   "metadata": {},
   "outputs": [
    {
     "data": {
      "text/html": [
       "<div>\n",
       "<style scoped>\n",
       "    .dataframe tbody tr th:only-of-type {\n",
       "        vertical-align: middle;\n",
       "    }\n",
       "\n",
       "    .dataframe tbody tr th {\n",
       "        vertical-align: top;\n",
       "    }\n",
       "\n",
       "    .dataframe thead th {\n",
       "        text-align: right;\n",
       "    }\n",
       "</style>\n",
       "<table border=\"1\" class=\"dataframe\">\n",
       "  <thead>\n",
       "    <tr style=\"text-align: right;\">\n",
       "      <th></th>\n",
       "      <th>mass</th>\n",
       "      <th>diameter</th>\n",
       "      <th>rotation_period</th>\n",
       "      <th>density</th>\n",
       "      <th>is_big</th>\n",
       "    </tr>\n",
       "  </thead>\n",
       "  <tbody>\n",
       "    <tr>\n",
       "      <th>Mercury</th>\n",
       "      <td>3.000000e+23</td>\n",
       "      <td>4879000.0</td>\n",
       "      <td>1407.6</td>\n",
       "      <td>4933.216530</td>\n",
       "      <td>False</td>\n",
       "    </tr>\n",
       "    <tr>\n",
       "      <th>Venus</th>\n",
       "      <td>4.870000e+24</td>\n",
       "      <td>12104000.0</td>\n",
       "      <td>NaN</td>\n",
       "      <td>5244.977070</td>\n",
       "      <td>True</td>\n",
       "    </tr>\n",
       "    <tr>\n",
       "      <th>Earth</th>\n",
       "      <td>5.970000e+24</td>\n",
       "      <td>12756000.0</td>\n",
       "      <td>23.9</td>\n",
       "      <td>5493.285577</td>\n",
       "      <td>True</td>\n",
       "    </tr>\n",
       "  </tbody>\n",
       "</table>\n",
       "</div>"
      ],
      "text/plain": [
       "                 mass    diameter  rotation_period      density  is_big\n",
       "Mercury  3.000000e+23   4879000.0           1407.6  4933.216530   False\n",
       "Venus    4.870000e+24  12104000.0              NaN  5244.977070    True\n",
       "Earth    5.970000e+24  12756000.0             23.9  5493.285577    True"
      ]
     },
     "execution_count": 21,
     "metadata": {},
     "output_type": "execute_result"
    }
   ],
   "source": [
    "df['is_big'] = df.mass > 4e24\n",
    "df"
   ]
  },
  {
   "cell_type": "markdown",
   "metadata": {},
   "source": [
    "### Modifying Values\n",
    "\n",
    "We often want to modify values in a dataframe based on some rule. To modify values, we need to use `.loc` or `.iloc`"
   ]
  },
  {
   "cell_type": "code",
   "execution_count": 22,
   "metadata": {},
   "outputs": [
    {
     "data": {
      "text/html": [
       "<div>\n",
       "<style scoped>\n",
       "    .dataframe tbody tr th:only-of-type {\n",
       "        vertical-align: middle;\n",
       "    }\n",
       "\n",
       "    .dataframe tbody tr th {\n",
       "        vertical-align: top;\n",
       "    }\n",
       "\n",
       "    .dataframe thead th {\n",
       "        text-align: right;\n",
       "    }\n",
       "</style>\n",
       "<table border=\"1\" class=\"dataframe\">\n",
       "  <thead>\n",
       "    <tr style=\"text-align: right;\">\n",
       "      <th></th>\n",
       "      <th>mass</th>\n",
       "      <th>diameter</th>\n",
       "      <th>rotation_period</th>\n",
       "      <th>density</th>\n",
       "      <th>is_big</th>\n",
       "    </tr>\n",
       "  </thead>\n",
       "  <tbody>\n",
       "    <tr>\n",
       "      <th>Mercury</th>\n",
       "      <td>3.000000e+23</td>\n",
       "      <td>4879000.0</td>\n",
       "      <td>1407.6</td>\n",
       "      <td>4933.216530</td>\n",
       "      <td>False</td>\n",
       "    </tr>\n",
       "    <tr>\n",
       "      <th>Venus</th>\n",
       "      <td>4.870000e+24</td>\n",
       "      <td>12104001.0</td>\n",
       "      <td>NaN</td>\n",
       "      <td>5244.977070</td>\n",
       "      <td>True</td>\n",
       "    </tr>\n",
       "    <tr>\n",
       "      <th>Earth</th>\n",
       "      <td>5.980000e+24</td>\n",
       "      <td>12756000.0</td>\n",
       "      <td>23.9</td>\n",
       "      <td>5493.285577</td>\n",
       "      <td>True</td>\n",
       "    </tr>\n",
       "  </tbody>\n",
       "</table>\n",
       "</div>"
      ],
      "text/plain": [
       "                 mass    diameter  rotation_period      density  is_big\n",
       "Mercury  3.000000e+23   4879000.0           1407.6  4933.216530   False\n",
       "Venus    4.870000e+24  12104001.0              NaN  5244.977070    True\n",
       "Earth    5.980000e+24  12756000.0             23.9  5493.285577    True"
      ]
     },
     "execution_count": 22,
     "metadata": {},
     "output_type": "execute_result"
    }
   ],
   "source": [
    "df.loc['Earth', 'mass'] = 5.98e24\n",
    "df.loc['Venus', 'diameter'] += 1\n",
    "df"
   ]
  },
  {
   "cell_type": "markdown",
   "metadata": {},
   "source": [
    "## Plotting\n",
    "\n",
    "DataFrames have all kinds of [useful plotting](https://pandas.pydata.org/pandas-docs/stable/visualization.html) built in."
   ]
  },
  {
   "cell_type": "code",
   "execution_count": 43,
   "metadata": {},
   "outputs": [
    {
     "data": {
      "text/plain": [
       "<Axes: xlabel='mass', ylabel='diameter'>"
      ]
     },
     "execution_count": 43,
     "metadata": {},
     "output_type": "execute_result"
    },
    {
     "data": {
      "image/png": "[encoded data removed]",
      "text/plain": [
       "<Figure size 640x480 with 1 Axes>"
      ]
     },
     "metadata": {},
     "output_type": "display_data"
    }
   ],
   "source": [
    "df.plot(kind='scatter', x='mass', y='diameter', grid=True)"
   ]
  },
  {
   "cell_type": "code",
   "execution_count": 48,
   "metadata": {},
   "outputs": [
    {
     "data": {
      "text/plain": [
       "<Axes: >"
      ]
     },
     "execution_count": 48,
     "metadata": {},
     "output_type": "execute_result"
    },
    {
     "data": {
      "image/png": "[encoded data removed]",
      "text/plain": [
       "<Figure size 640x480 with 1 Axes>"
      ]
     },
     "metadata": {},
     "output_type": "display_data"
    }
   ],
   "source": [
    "df.plot(kind='bar')\n",
    "# df.plot(kind='bar',ylim=(0,1e7))"
   ]
  },
  {
   "cell_type": "markdown",
   "metadata": {},
   "source": [
    "## Time Indexes\n",
    "\n",
    "Indexes are very powerful. They are a big part of why Pandas is so useful. There are different indices for different types of data. Time Indexes are especially great!"
   ]
  },
  {
   "cell_type": "code",
   "execution_count": 24,
   "metadata": {},
   "outputs": [
    {
     "data": {
      "text/plain": [
       "(pandas.core.indexes.datetimes.DatetimeIndex, pandas.core.series.Series)"
      ]
     },
     "execution_count": 24,
     "metadata": {},
     "output_type": "execute_result"
    }
   ],
   "source": [
    "two_years = pd.date_range(start='2014-01-01', end='2016-01-01', freq='D')\n",
    "timeseries = pd.Series(np.sin(2 *np.pi *two_years.dayofyear / 365),\n",
    "                       index=two_years)\n",
    "type(two_years), type(timeseries)"
   ]
  },
  {
   "cell_type": "code",
   "execution_count": 25,
   "metadata": {},
   "outputs": [
    {
     "data": {
      "text/plain": [
       "Index([  1,   2,   3,   4,   5,   6,   7,   8,   9,  10,\n",
       "       ...\n",
       "       357, 358, 359, 360, 361, 362, 363, 364, 365,   1],\n",
       "      dtype='int32', length=731)"
      ]
     },
     "execution_count": 25,
     "metadata": {},
     "output_type": "execute_result"
    }
   ],
   "source": [
    "two_years.dayofyear # other built-in attributes of DatetimeIndex https://pandas.pydata.org/docs/reference/api/pandas.DatetimeIndex.html"
   ]
  },
  {
   "cell_type": "code",
   "execution_count": 26,
   "metadata": {},
   "outputs": [
    {
     "data": {
      "text/plain": [
       "<Axes: >"
      ]
     },
     "execution_count": 26,
     "metadata": {},
     "output_type": "execute_result"
    },
    {
     "data": {
      "image/png": "[encoded data removed]",
      "text/plain": [
       "<Figure size 640x480 with 1 Axes>"
      ]
     },
     "metadata": {},
     "output_type": "display_data"
    }
   ],
   "source": [
    "# timeseries\n",
    "timeseries.plot()"
   ]
  },
  {
   "cell_type": "markdown",
   "metadata": {},
   "source": [
    "We can use python's slicing notation inside `.loc` to select a date range."
   ]
  },
  {
   "cell_type": "code",
   "execution_count": 8,
   "metadata": {},
   "outputs": [
    {
     "data": {
      "text/plain": [
       "<Axes: >"
      ]
     },
     "execution_count": 8,
     "metadata": {},
     "output_type": "execute_result"
    },
    {
     "data": {
      "image/png": "[encoded data removed]",
      "text/plain": [
       "<Figure size 640x480 with 1 Axes>"
      ]
     },
     "metadata": {},
     "output_type": "display_data"
    }
   ],
   "source": [
    "timeseries.loc['2015-01-01':'2015-07-01'].plot()"
   ]
  },
  {
   "cell_type": "markdown",
   "metadata": {},
   "source": [
    "The TimeIndex object has lots of useful attributes"
   ]
  },
  {
   "cell_type": "code",
   "execution_count": 28,
   "metadata": {},
   "outputs": [
    {
     "data": {
      "text/plain": [
       "Index([ 1,  1,  1,  1,  1,  1,  1,  1,  1,  1,\n",
       "       ...\n",
       "       12, 12, 12, 12, 12, 12, 12, 12, 12,  1],\n",
       "      dtype='int32', length=731)"
      ]
     },
     "execution_count": 28,
     "metadata": {},
     "output_type": "execute_result"
    }
   ],
   "source": [
    "timeseries.index.month"
   ]
  },
  {
   "cell_type": "code",
   "execution_count": 29,
   "metadata": {},
   "outputs": [
    {
     "data": {
      "text/plain": [
       "Index([ 1,  2,  3,  4,  5,  6,  7,  8,  9, 10,\n",
       "       ...\n",
       "       23, 24, 25, 26, 27, 28, 29, 30, 31,  1],\n",
       "      dtype='int32', length=731)"
      ]
     },
     "execution_count": 29,
     "metadata": {},
     "output_type": "execute_result"
    }
   ],
   "source": [
    "timeseries.index.day"
   ]
  },
  {
   "cell_type": "markdown",
   "metadata": {},
   "source": [
    "## Reading Data Files: Weather Station Data\n",
    "\n",
    "In this example, we will use NOAA weather station data from https://www.ncei.noaa.gov/products/land-based-station/us-climate-reference-network.\n",
    "\n",
    "The details of files we are going to read are described in this [README file](https://www.ncei.noaa.gov/pub/data/uscrn/products/daily01/readme.txt)."
   ]
  },
  {
   "cell_type": "code",
   "execution_count": 8,
   "metadata": {},
   "outputs": [
    {
     "data": {
      "text/plain": [
       "'/home/jovyan/.cache/noaa-data/data.txt'"
      ]
     },
     "execution_count": 8,
     "metadata": {},
     "output_type": "execute_result"
    }
   ],
   "source": [
    "# a zenodo data link was created because outbound FTP access is not allowed from some cloud-based JupyterHub setups\n",
    "# https://zenodo.org/records/5564850\n",
    "import pooch\n",
    "POOCH = pooch.create(\n",
    "    path=pooch.os_cache(\"noaa-data\"),\n",
    "    base_url=\"doi:10.5281/zenodo.5564850/\", \n",
    "    registry={\n",
    "        \"data.txt\": \"md5:5129dcfd19300eb8d4d8d1673fcfbcb4\",\n",
    "    },\n",
    ")\n",
    "datafile = POOCH.fetch(\"data.txt\")\n",
    "datafile"
   ]
  },
  {
   "cell_type": "code",
   "execution_count": 2,
   "metadata": {},
   "outputs": [
    {
     "name": "stdout",
     "output_type": "stream",
     "text": [
      "WBANNO LST_DATE CRX_VN LONGITUDE LATITUDE T_DAILY_MAX T_DAILY_MIN T_DAILY_MEAN T_DAILY_AVG P_DAILY_CALC SOLARAD_DAILY SUR_TEMP_DAILY_TYPE SUR_TEMP_DAILY_MAX SUR_TEMP_DAILY_MIN SUR_TEMP_DAILY_AVG RH_DAILY_MAX RH_DAILY_MIN RH_DAILY_AVG SOIL_MOISTURE_5_DAILY SOIL_MOISTURE_10_DAILY SOIL_MOISTURE_20_DAILY SOIL_MOISTURE_50_DAILY SOIL_MOISTURE_100_DAILY SOIL_TEMP_5_DAILY SOIL_TEMP_10_DAILY SOIL_TEMP_20_DAILY SOIL_TEMP_50_DAILY SOIL_TEMP_100_DAILY \n",
      "64756 20170101  2.422  -73.74   41.79     6.6    -5.4     0.6     2.2     0.0     8.68 C     7.9    -6.6    -0.5    84.8    30.7    53.7 -99.000 -99.000   0.207   0.152   0.175    -0.1     0.0     0.6     1.5     3.4\n",
      "64756 20170102  2.422  -73.74   41.79     4.0    -6.8    -1.4    -1.2     0.0     2.08 C     4.1    -7.1    -1.6    91.1    49.1    77.4 -99.000 -99.000   0.205   0.151   0.173    -0.2     0.0     0.6     1.5     3.3\n",
      "64756 20170103  2.422  -73.74   41.79     4.9     0.7     2.8     2.7    13.1     0.68 C     3.9     0.1     1.6    96.5    80.1    91.5 -99.000 -99.000   0.205   0.150   0.173    -0.1     0.0     0.5     1.5     3.3\n",
      "64756 20170104  2.422  -73.74   41.79     8.7    -1.6     3.6     3.5     1.3     2.85 C     9.4    -4.5     1.3    97.4    34.0    73.1 -99.000 -99.000   0.215   0.153   0.174    -0.1     0.0     0.5     1.5     3.2\n",
      "64756 20170105  2.422  -73.74   41.79    -0.5    -4.6    -2.5    -2.8     0.0     4.90 C     5.0    -7.6    -3.3    51.0    34.4    42.5 -99.000 -99.000   0.215   0.154   0.177    -0.1     0.0     0.5     1.4     3.1\n",
      "64756 20170106  2.422  -73.74   41.79    -2.5   -10.1    -6.3    -4.7     1.3     5.17 C     1.8   -12.9    -5.2    89.8    40.0    60.8 -99.000 -99.000   0.210   0.153   0.177    -0.2     0.0     0.5     1.4     3.1\n",
      "64756 20170107  2.422  -73.74   41.79    -7.3   -11.7    -9.5    -8.7     3.1     1.19 C    -5.0   -19.0    -8.5    84.4    50.9    71.2 -99.000 -99.000   0.204   0.152   0.175    -0.4    -0.1     0.5     1.4     3.0\n",
      "64756 20170108  2.422  -73.74   41.79    -5.9   -14.5   -10.2    -9.4     0.0     6.15 C    -5.5   -23.1   -14.0    76.9    40.3    59.8 -99.000 -99.000   0.206   0.150   0.175    -0.4    -0.2     0.4     1.4     3.0\n",
      "64756 20170109  2.422  -73.74   41.79    -6.5   -20.2   -13.3   -12.5     0.0     5.86 C    -6.4   -23.4   -16.2    82.5    45.1    65.8 -99.000 -99.000   0.223   0.148   0.175    -0.7    -0.4     0.4     1.3     3.0\n"
     ]
    }
   ],
   "source": [
    "! head '/home/jovyan/.cache/noaa-data/data.txt'"
   ]
  },
  {
   "cell_type": "markdown",
   "metadata": {},
   "source": [
    "We now have a text file on our hard drive called `data.txt`. Examine it.\n",
    "\n",
    "To read it into pandas, we will use the [read_csv](https://pandas.pydata.org/pandas-docs/stable/generated/pandas.read_csv.html) function. This function is incredibly complex and powerful. You can use it to extract data from almost any text file. However, you need to understand how to use its various options.\n",
    "\n",
    "With no options, this is what we get."
   ]
  },
  {
   "cell_type": "code",
   "execution_count": 23,
   "metadata": {},
   "outputs": [
    {
     "data": {
      "text/html": [
       "<div>\n",
       "<style scoped>\n",
       "    .dataframe tbody tr th:only-of-type {\n",
       "        vertical-align: middle;\n",
       "    }\n",
       "\n",
       "    .dataframe tbody tr th {\n",
       "        vertical-align: top;\n",
       "    }\n",
       "\n",
       "    .dataframe thead th {\n",
       "        text-align: right;\n",
       "    }\n",
       "</style>\n",
       "<table border=\"1\" class=\"dataframe\">\n",
       "  <thead>\n",
       "    <tr style=\"text-align: right;\">\n",
       "      <th></th>\n",
       "      <th>WBANNO LST_DATE CRX_VN LONGITUDE LATITUDE T_DAILY_MAX T_DAILY_MIN T_DAILY_MEAN T_DAILY_AVG P_DAILY_CALC SOLARAD_DAILY SUR_TEMP_DAILY_TYPE SUR_TEMP_DAILY_MAX SUR_TEMP_DAILY_MIN SUR_TEMP_DAILY_AVG RH_DAILY_MAX RH_DAILY_MIN RH_DAILY_AVG SOIL_MOISTURE_5_DAILY SOIL_MOISTURE_10_DAILY SOIL_MOISTURE_20_DAILY SOIL_MOISTURE_50_DAILY SOIL_MOISTURE_100_DAILY SOIL_TEMP_5_DAILY SOIL_TEMP_10_DAILY SOIL_TEMP_20_DAILY SOIL_TEMP_50_DAILY SOIL_TEMP_100_DAILY</th>\n",
       "    </tr>\n",
       "  </thead>\n",
       "  <tbody>\n",
       "    <tr>\n",
       "      <th>0</th>\n",
       "      <td>64756 20170101  2.422  -73.74   41.79     6.6 ...</td>\n",
       "    </tr>\n",
       "    <tr>\n",
       "      <th>1</th>\n",
       "      <td>64756 20170102  2.422  -73.74   41.79     4.0 ...</td>\n",
       "    </tr>\n",
       "    <tr>\n",
       "      <th>2</th>\n",
       "      <td>64756 20170103  2.422  -73.74   41.79     4.9 ...</td>\n",
       "    </tr>\n",
       "    <tr>\n",
       "      <th>3</th>\n",
       "      <td>64756 20170104  2.422  -73.74   41.79     8.7 ...</td>\n",
       "    </tr>\n",
       "    <tr>\n",
       "      <th>4</th>\n",
       "      <td>64756 20170105  2.422  -73.74   41.79    -0.5 ...</td>\n",
       "    </tr>\n",
       "  </tbody>\n",
       "</table>\n",
       "</div>"
      ],
      "text/plain": [
       "  WBANNO LST_DATE CRX_VN LONGITUDE LATITUDE T_DAILY_MAX T_DAILY_MIN T_DAILY_MEAN T_DAILY_AVG P_DAILY_CALC SOLARAD_DAILY SUR_TEMP_DAILY_TYPE SUR_TEMP_DAILY_MAX SUR_TEMP_DAILY_MIN SUR_TEMP_DAILY_AVG RH_DAILY_MAX RH_DAILY_MIN RH_DAILY_AVG SOIL_MOISTURE_5_DAILY SOIL_MOISTURE_10_DAILY SOIL_MOISTURE_20_DAILY SOIL_MOISTURE_50_DAILY SOIL_MOISTURE_100_DAILY SOIL_TEMP_5_DAILY SOIL_TEMP_10_DAILY SOIL_TEMP_20_DAILY SOIL_TEMP_50_DAILY SOIL_TEMP_100_DAILY \n",
       "0  64756 20170101  2.422  -73.74   41.79     6.6 ...                                                                                                                                                                                                                                                                                                                                                                                                          \n",
       "1  64756 20170102  2.422  -73.74   41.79     4.0 ...                                                                                                                                                                                                                                                                                                                                                                                                          \n",
       "2  64756 20170103  2.422  -73.74   41.79     4.9 ...                                                                                                                                                                                                                                                                                                                                                                                                          \n",
       "3  64756 20170104  2.422  -73.74   41.79     8.7 ...                                                                                                                                                                                                                                                                                                                                                                                                          \n",
       "4  64756 20170105  2.422  -73.74   41.79    -0.5 ...                                                                                                                                                                                                                                                                                                                                                                                                          "
      ]
     },
     "execution_count": 23,
     "metadata": {},
     "output_type": "execute_result"
    }
   ],
   "source": [
    "df = pd.read_csv(datafile)\n",
    "df.head()"
   ]
  },
  {
   "cell_type": "markdown",
   "metadata": {},
   "source": [
    "Pandas failed to identify the different columns. This is because it was expecting standard CSV (comma-separated values) file. In our file, instead, the values are separated by whitespace. And not a single whilespace--the amount of whitespace between values varies. We can tell pandas this using the `sep` keyword."
   ]
  },
  {
   "cell_type": "code",
   "execution_count": 10,
   "metadata": {},
   "outputs": [
    {
     "data": {
      "text/html": [
       "<div>\n",
       "<style scoped>\n",
       "    .dataframe tbody tr th:only-of-type {\n",
       "        vertical-align: middle;\n",
       "    }\n",
       "\n",
       "    .dataframe tbody tr th {\n",
       "        vertical-align: top;\n",
       "    }\n",
       "\n",
       "    .dataframe thead th {\n",
       "        text-align: right;\n",
       "    }\n",
       "</style>\n",
       "<table border=\"1\" class=\"dataframe\">\n",
       "  <thead>\n",
       "    <tr style=\"text-align: right;\">\n",
       "      <th></th>\n",
       "      <th>WBANNO</th>\n",
       "      <th>LST_DATE</th>\n",
       "      <th>CRX_VN</th>\n",
       "      <th>LONGITUDE</th>\n",
       "      <th>LATITUDE</th>\n",
       "      <th>T_DAILY_MAX</th>\n",
       "      <th>T_DAILY_MIN</th>\n",
       "      <th>T_DAILY_MEAN</th>\n",
       "      <th>T_DAILY_AVG</th>\n",
       "      <th>P_DAILY_CALC</th>\n",
       "      <th>...</th>\n",
       "      <th>SOIL_MOISTURE_5_DAILY</th>\n",
       "      <th>SOIL_MOISTURE_10_DAILY</th>\n",
       "      <th>SOIL_MOISTURE_20_DAILY</th>\n",
       "      <th>SOIL_MOISTURE_50_DAILY</th>\n",
       "      <th>SOIL_MOISTURE_100_DAILY</th>\n",
       "      <th>SOIL_TEMP_5_DAILY</th>\n",
       "      <th>SOIL_TEMP_10_DAILY</th>\n",
       "      <th>SOIL_TEMP_20_DAILY</th>\n",
       "      <th>SOIL_TEMP_50_DAILY</th>\n",
       "      <th>SOIL_TEMP_100_DAILY</th>\n",
       "    </tr>\n",
       "  </thead>\n",
       "  <tbody>\n",
       "    <tr>\n",
       "      <th>0</th>\n",
       "      <td>64756</td>\n",
       "      <td>20170101</td>\n",
       "      <td>2.422</td>\n",
       "      <td>-73.74</td>\n",
       "      <td>41.79</td>\n",
       "      <td>6.6</td>\n",
       "      <td>-5.4</td>\n",
       "      <td>0.6</td>\n",
       "      <td>2.2</td>\n",
       "      <td>0.0</td>\n",
       "      <td>...</td>\n",
       "      <td>-99.0</td>\n",
       "      <td>-99.0</td>\n",
       "      <td>0.207</td>\n",
       "      <td>0.152</td>\n",
       "      <td>0.175</td>\n",
       "      <td>-0.1</td>\n",
       "      <td>0.0</td>\n",
       "      <td>0.6</td>\n",
       "      <td>1.5</td>\n",
       "      <td>3.4</td>\n",
       "    </tr>\n",
       "    <tr>\n",
       "      <th>1</th>\n",
       "      <td>64756</td>\n",
       "      <td>20170102</td>\n",
       "      <td>2.422</td>\n",
       "      <td>-73.74</td>\n",
       "      <td>41.79</td>\n",
       "      <td>4.0</td>\n",
       "      <td>-6.8</td>\n",
       "      <td>-1.4</td>\n",
       "      <td>-1.2</td>\n",
       "      <td>0.0</td>\n",
       "      <td>...</td>\n",
       "      <td>-99.0</td>\n",
       "      <td>-99.0</td>\n",
       "      <td>0.205</td>\n",
       "      <td>0.151</td>\n",
       "      <td>0.173</td>\n",
       "      <td>-0.2</td>\n",
       "      <td>0.0</td>\n",
       "      <td>0.6</td>\n",
       "      <td>1.5</td>\n",
       "      <td>3.3</td>\n",
       "    </tr>\n",
       "    <tr>\n",
       "      <th>2</th>\n",
       "      <td>64756</td>\n",
       "      <td>20170103</td>\n",
       "      <td>2.422</td>\n",
       "      <td>-73.74</td>\n",
       "      <td>41.79</td>\n",
       "      <td>4.9</td>\n",
       "      <td>0.7</td>\n",
       "      <td>2.8</td>\n",
       "      <td>2.7</td>\n",
       "      <td>13.1</td>\n",
       "      <td>...</td>\n",
       "      <td>-99.0</td>\n",
       "      <td>-99.0</td>\n",
       "      <td>0.205</td>\n",
       "      <td>0.150</td>\n",
       "      <td>0.173</td>\n",
       "      <td>-0.1</td>\n",
       "      <td>0.0</td>\n",
       "      <td>0.5</td>\n",
       "      <td>1.5</td>\n",
       "      <td>3.3</td>\n",
       "    </tr>\n",
       "    <tr>\n",
       "      <th>3</th>\n",
       "      <td>64756</td>\n",
       "      <td>20170104</td>\n",
       "      <td>2.422</td>\n",
       "      <td>-73.74</td>\n",
       "      <td>41.79</td>\n",
       "      <td>8.7</td>\n",
       "      <td>-1.6</td>\n",
       "      <td>3.6</td>\n",
       "      <td>3.5</td>\n",
       "      <td>1.3</td>\n",
       "      <td>...</td>\n",
       "      <td>-99.0</td>\n",
       "      <td>-99.0</td>\n",
       "      <td>0.215</td>\n",
       "      <td>0.153</td>\n",
       "      <td>0.174</td>\n",
       "      <td>-0.1</td>\n",
       "      <td>0.0</td>\n",
       "      <td>0.5</td>\n",
       "      <td>1.5</td>\n",
       "      <td>3.2</td>\n",
       "    </tr>\n",
       "    <tr>\n",
       "      <th>4</th>\n",
       "      <td>64756</td>\n",
       "      <td>20170105</td>\n",
       "      <td>2.422</td>\n",
       "      <td>-73.74</td>\n",
       "      <td>41.79</td>\n",
       "      <td>-0.5</td>\n",
       "      <td>-4.6</td>\n",
       "      <td>-2.5</td>\n",
       "      <td>-2.8</td>\n",
       "      <td>0.0</td>\n",
       "      <td>...</td>\n",
       "      <td>-99.0</td>\n",
       "      <td>-99.0</td>\n",
       "      <td>0.215</td>\n",
       "      <td>0.154</td>\n",
       "      <td>0.177</td>\n",
       "      <td>-0.1</td>\n",
       "      <td>0.0</td>\n",
       "      <td>0.5</td>\n",
       "      <td>1.4</td>\n",
       "      <td>3.1</td>\n",
       "    </tr>\n",
       "  </tbody>\n",
       "</table>\n",
       "<p>5 rows × 28 columns</p>\n",
       "</div>"
      ],
      "text/plain": [
       "   WBANNO  LST_DATE  CRX_VN  LONGITUDE  LATITUDE  T_DAILY_MAX  T_DAILY_MIN  \\\n",
       "0   64756  20170101   2.422     -73.74     41.79          6.6         -5.4   \n",
       "1   64756  20170102   2.422     -73.74     41.79          4.0         -6.8   \n",
       "2   64756  20170103   2.422     -73.74     41.79          4.9          0.7   \n",
       "3   64756  20170104   2.422     -73.74     41.79          8.7         -1.6   \n",
       "4   64756  20170105   2.422     -73.74     41.79         -0.5         -4.6   \n",
       "\n",
       "   T_DAILY_MEAN  T_DAILY_AVG  P_DAILY_CALC  ...  SOIL_MOISTURE_5_DAILY  \\\n",
       "0           0.6          2.2           0.0  ...                  -99.0   \n",
       "1          -1.4         -1.2           0.0  ...                  -99.0   \n",
       "2           2.8          2.7          13.1  ...                  -99.0   \n",
       "3           3.6          3.5           1.3  ...                  -99.0   \n",
       "4          -2.5         -2.8           0.0  ...                  -99.0   \n",
       "\n",
       "  SOIL_MOISTURE_10_DAILY  SOIL_MOISTURE_20_DAILY  SOIL_MOISTURE_50_DAILY  \\\n",
       "0                  -99.0                   0.207                   0.152   \n",
       "1                  -99.0                   0.205                   0.151   \n",
       "2                  -99.0                   0.205                   0.150   \n",
       "3                  -99.0                   0.215                   0.153   \n",
       "4                  -99.0                   0.215                   0.154   \n",
       "\n",
       "   SOIL_MOISTURE_100_DAILY  SOIL_TEMP_5_DAILY  SOIL_TEMP_10_DAILY  \\\n",
       "0                    0.175               -0.1                 0.0   \n",
       "1                    0.173               -0.2                 0.0   \n",
       "2                    0.173               -0.1                 0.0   \n",
       "3                    0.174               -0.1                 0.0   \n",
       "4                    0.177               -0.1                 0.0   \n",
       "\n",
       "   SOIL_TEMP_20_DAILY  SOIL_TEMP_50_DAILY  SOIL_TEMP_100_DAILY  \n",
       "0                 0.6                 1.5                  3.4  \n",
       "1                 0.6                 1.5                  3.3  \n",
       "2                 0.5                 1.5                  3.3  \n",
       "3                 0.5                 1.5                  3.2  \n",
       "4                 0.5                 1.4                  3.1  \n",
       "\n",
       "[5 rows x 28 columns]"
      ]
     },
     "execution_count": 10,
     "metadata": {},
     "output_type": "execute_result"
    }
   ],
   "source": [
    "df = pd.read_csv(datafile, sep='\\\\s+') # use whitespace as delimiter, \\s: any whitespace character\n",
    "df.head() \n",
    "# The head method shows the first five rows of a DataFrame, and the tail method shows the last five rows of a DataFrame."
   ]
  },
  {
   "cell_type": "markdown",
   "metadata": {},
   "source": [
    "Great! It worked. \n",
    "\n",
    "If we look closely, we will see there are lots of -99 and -9999 values in the file. The [README file](ftp://ftp.ncdc.noaa.gov/pub/data/uscrn/products/daily01/README.txt) tells us that these are values used to represent missing data. Let's tell this to pandas."
   ]
  },
  {
   "cell_type": "code",
   "execution_count": 11,
   "metadata": {},
   "outputs": [
    {
     "data": {
      "text/html": [
       "<div>\n",
       "<style scoped>\n",
       "    .dataframe tbody tr th:only-of-type {\n",
       "        vertical-align: middle;\n",
       "    }\n",
       "\n",
       "    .dataframe tbody tr th {\n",
       "        vertical-align: top;\n",
       "    }\n",
       "\n",
       "    .dataframe thead th {\n",
       "        text-align: right;\n",
       "    }\n",
       "</style>\n",
       "<table border=\"1\" class=\"dataframe\">\n",
       "  <thead>\n",
       "    <tr style=\"text-align: right;\">\n",
       "      <th></th>\n",
       "      <th>WBANNO</th>\n",
       "      <th>LST_DATE</th>\n",
       "      <th>CRX_VN</th>\n",
       "      <th>LONGITUDE</th>\n",
       "      <th>LATITUDE</th>\n",
       "      <th>T_DAILY_MAX</th>\n",
       "      <th>T_DAILY_MIN</th>\n",
       "      <th>T_DAILY_MEAN</th>\n",
       "      <th>T_DAILY_AVG</th>\n",
       "      <th>P_DAILY_CALC</th>\n",
       "      <th>...</th>\n",
       "      <th>SOIL_MOISTURE_5_DAILY</th>\n",
       "      <th>SOIL_MOISTURE_10_DAILY</th>\n",
       "      <th>SOIL_MOISTURE_20_DAILY</th>\n",
       "      <th>SOIL_MOISTURE_50_DAILY</th>\n",
       "      <th>SOIL_MOISTURE_100_DAILY</th>\n",
       "      <th>SOIL_TEMP_5_DAILY</th>\n",
       "      <th>SOIL_TEMP_10_DAILY</th>\n",
       "      <th>SOIL_TEMP_20_DAILY</th>\n",
       "      <th>SOIL_TEMP_50_DAILY</th>\n",
       "      <th>SOIL_TEMP_100_DAILY</th>\n",
       "    </tr>\n",
       "  </thead>\n",
       "  <tbody>\n",
       "    <tr>\n",
       "      <th>0</th>\n",
       "      <td>64756</td>\n",
       "      <td>20170101</td>\n",
       "      <td>2.422</td>\n",
       "      <td>-73.74</td>\n",
       "      <td>41.79</td>\n",
       "      <td>6.6</td>\n",
       "      <td>-5.4</td>\n",
       "      <td>0.6</td>\n",
       "      <td>2.2</td>\n",
       "      <td>0.0</td>\n",
       "      <td>...</td>\n",
       "      <td>NaN</td>\n",
       "      <td>NaN</td>\n",
       "      <td>0.207</td>\n",
       "      <td>0.152</td>\n",
       "      <td>0.175</td>\n",
       "      <td>-0.1</td>\n",
       "      <td>0.0</td>\n",
       "      <td>0.6</td>\n",
       "      <td>1.5</td>\n",
       "      <td>3.4</td>\n",
       "    </tr>\n",
       "    <tr>\n",
       "      <th>1</th>\n",
       "      <td>64756</td>\n",
       "      <td>20170102</td>\n",
       "      <td>2.422</td>\n",
       "      <td>-73.74</td>\n",
       "      <td>41.79</td>\n",
       "      <td>4.0</td>\n",
       "      <td>-6.8</td>\n",
       "      <td>-1.4</td>\n",
       "      <td>-1.2</td>\n",
       "      <td>0.0</td>\n",
       "      <td>...</td>\n",
       "      <td>NaN</td>\n",
       "      <td>NaN</td>\n",
       "      <td>0.205</td>\n",
       "      <td>0.151</td>\n",
       "      <td>0.173</td>\n",
       "      <td>-0.2</td>\n",
       "      <td>0.0</td>\n",
       "      <td>0.6</td>\n",
       "      <td>1.5</td>\n",
       "      <td>3.3</td>\n",
       "    </tr>\n",
       "    <tr>\n",
       "      <th>2</th>\n",
       "      <td>64756</td>\n",
       "      <td>20170103</td>\n",
       "      <td>2.422</td>\n",
       "      <td>-73.74</td>\n",
       "      <td>41.79</td>\n",
       "      <td>4.9</td>\n",
       "      <td>0.7</td>\n",
       "      <td>2.8</td>\n",
       "      <td>2.7</td>\n",
       "      <td>13.1</td>\n",
       "      <td>...</td>\n",
       "      <td>NaN</td>\n",
       "      <td>NaN</td>\n",
       "      <td>0.205</td>\n",
       "      <td>0.150</td>\n",
       "      <td>0.173</td>\n",
       "      <td>-0.1</td>\n",
       "      <td>0.0</td>\n",
       "      <td>0.5</td>\n",
       "      <td>1.5</td>\n",
       "      <td>3.3</td>\n",
       "    </tr>\n",
       "    <tr>\n",
       "      <th>3</th>\n",
       "      <td>64756</td>\n",
       "      <td>20170104</td>\n",
       "      <td>2.422</td>\n",
       "      <td>-73.74</td>\n",
       "      <td>41.79</td>\n",
       "      <td>8.7</td>\n",
       "      <td>-1.6</td>\n",
       "      <td>3.6</td>\n",
       "      <td>3.5</td>\n",
       "      <td>1.3</td>\n",
       "      <td>...</td>\n",
       "      <td>NaN</td>\n",
       "      <td>NaN</td>\n",
       "      <td>0.215</td>\n",
       "      <td>0.153</td>\n",
       "      <td>0.174</td>\n",
       "      <td>-0.1</td>\n",
       "      <td>0.0</td>\n",
       "      <td>0.5</td>\n",
       "      <td>1.5</td>\n",
       "      <td>3.2</td>\n",
       "    </tr>\n",
       "    <tr>\n",
       "      <th>4</th>\n",
       "      <td>64756</td>\n",
       "      <td>20170105</td>\n",
       "      <td>2.422</td>\n",
       "      <td>-73.74</td>\n",
       "      <td>41.79</td>\n",
       "      <td>-0.5</td>\n",
       "      <td>-4.6</td>\n",
       "      <td>-2.5</td>\n",
       "      <td>-2.8</td>\n",
       "      <td>0.0</td>\n",
       "      <td>...</td>\n",
       "      <td>NaN</td>\n",
       "      <td>NaN</td>\n",
       "      <td>0.215</td>\n",
       "      <td>0.154</td>\n",
       "      <td>0.177</td>\n",
       "      <td>-0.1</td>\n",
       "      <td>0.0</td>\n",
       "      <td>0.5</td>\n",
       "      <td>1.4</td>\n",
       "      <td>3.1</td>\n",
       "    </tr>\n",
       "  </tbody>\n",
       "</table>\n",
       "<p>5 rows × 28 columns</p>\n",
       "</div>"
      ],
      "text/plain": [
       "   WBANNO  LST_DATE  CRX_VN  LONGITUDE  LATITUDE  T_DAILY_MAX  T_DAILY_MIN  \\\n",
       "0   64756  20170101   2.422     -73.74     41.79          6.6         -5.4   \n",
       "1   64756  20170102   2.422     -73.74     41.79          4.0         -6.8   \n",
       "2   64756  20170103   2.422     -73.74     41.79          4.9          0.7   \n",
       "3   64756  20170104   2.422     -73.74     41.79          8.7         -1.6   \n",
       "4   64756  20170105   2.422     -73.74     41.79         -0.5         -4.6   \n",
       "\n",
       "   T_DAILY_MEAN  T_DAILY_AVG  P_DAILY_CALC  ...  SOIL_MOISTURE_5_DAILY  \\\n",
       "0           0.6          2.2           0.0  ...                    NaN   \n",
       "1          -1.4         -1.2           0.0  ...                    NaN   \n",
       "2           2.8          2.7          13.1  ...                    NaN   \n",
       "3           3.6          3.5           1.3  ...                    NaN   \n",
       "4          -2.5         -2.8           0.0  ...                    NaN   \n",
       "\n",
       "  SOIL_MOISTURE_10_DAILY  SOIL_MOISTURE_20_DAILY  SOIL_MOISTURE_50_DAILY  \\\n",
       "0                    NaN                   0.207                   0.152   \n",
       "1                    NaN                   0.205                   0.151   \n",
       "2                    NaN                   0.205                   0.150   \n",
       "3                    NaN                   0.215                   0.153   \n",
       "4                    NaN                   0.215                   0.154   \n",
       "\n",
       "   SOIL_MOISTURE_100_DAILY  SOIL_TEMP_5_DAILY  SOIL_TEMP_10_DAILY  \\\n",
       "0                    0.175               -0.1                 0.0   \n",
       "1                    0.173               -0.2                 0.0   \n",
       "2                    0.173               -0.1                 0.0   \n",
       "3                    0.174               -0.1                 0.0   \n",
       "4                    0.177               -0.1                 0.0   \n",
       "\n",
       "   SOIL_TEMP_20_DAILY  SOIL_TEMP_50_DAILY  SOIL_TEMP_100_DAILY  \n",
       "0                 0.6                 1.5                  3.4  \n",
       "1                 0.6                 1.5                  3.3  \n",
       "2                 0.5                 1.5                  3.3  \n",
       "3                 0.5                 1.5                  3.2  \n",
       "4                 0.5                 1.4                  3.1  \n",
       "\n",
       "[5 rows x 28 columns]"
      ]
     },
     "execution_count": 11,
     "metadata": {},
     "output_type": "execute_result"
    }
   ],
   "source": [
    "df = pd.read_csv(datafile, sep='\\\\s+', na_values=[-9999.0, -99.0])\n",
    "df.head()"
   ]
  },
  {
   "cell_type": "markdown",
   "metadata": {},
   "source": [
    "Great. The missing data is now represented by `NaN`.\n",
    "\n",
    "What data types did pandas infer?"
   ]
  },
  {
   "cell_type": "code",
   "execution_count": 12,
   "metadata": {},
   "outputs": [
    {
     "name": "stdout",
     "output_type": "stream",
     "text": [
      "<class 'pandas.core.frame.DataFrame'>\n",
      "RangeIndex: 365 entries, 0 to 364\n",
      "Data columns (total 28 columns):\n",
      " #   Column                   Non-Null Count  Dtype  \n",
      "---  ------                   --------------  -----  \n",
      " 0   WBANNO                   365 non-null    int64  \n",
      " 1   LST_DATE                 365 non-null    int64  \n",
      " 2   CRX_VN                   365 non-null    float64\n",
      " 3   LONGITUDE                365 non-null    float64\n",
      " 4   LATITUDE                 365 non-null    float64\n",
      " 5   T_DAILY_MAX              364 non-null    float64\n",
      " 6   T_DAILY_MIN              364 non-null    float64\n",
      " 7   T_DAILY_MEAN             364 non-null    float64\n",
      " 8   T_DAILY_AVG              364 non-null    float64\n",
      " 9   P_DAILY_CALC             364 non-null    float64\n",
      " 10  SOLARAD_DAILY            364 non-null    float64\n",
      " 11  SUR_TEMP_DAILY_TYPE      365 non-null    object \n",
      " 12  SUR_TEMP_DAILY_MAX       364 non-null    float64\n",
      " 13  SUR_TEMP_DAILY_MIN       364 non-null    float64\n",
      " 14  SUR_TEMP_DAILY_AVG       364 non-null    float64\n",
      " 15  RH_DAILY_MAX             364 non-null    float64\n",
      " 16  RH_DAILY_MIN             364 non-null    float64\n",
      " 17  RH_DAILY_AVG             364 non-null    float64\n",
      " 18  SOIL_MOISTURE_5_DAILY    317 non-null    float64\n",
      " 19  SOIL_MOISTURE_10_DAILY   317 non-null    float64\n",
      " 20  SOIL_MOISTURE_20_DAILY   336 non-null    float64\n",
      " 21  SOIL_MOISTURE_50_DAILY   364 non-null    float64\n",
      " 22  SOIL_MOISTURE_100_DAILY  359 non-null    float64\n",
      " 23  SOIL_TEMP_5_DAILY        364 non-null    float64\n",
      " 24  SOIL_TEMP_10_DAILY       364 non-null    float64\n",
      " 25  SOIL_TEMP_20_DAILY       364 non-null    float64\n",
      " 26  SOIL_TEMP_50_DAILY       364 non-null    float64\n",
      " 27  SOIL_TEMP_100_DAILY      364 non-null    float64\n",
      "dtypes: float64(25), int64(2), object(1)\n",
      "memory usage: 80.0+ KB\n"
     ]
    }
   ],
   "source": [
    "df.info()"
   ]
  },
  {
   "cell_type": "markdown",
   "metadata": {},
   "source": [
    "One problem here is that pandas did not recognize the `LST_DATE` column as a date. Let's help it."
   ]
  },
  {
   "cell_type": "code",
   "execution_count": 16,
   "metadata": {},
   "outputs": [
    {
     "name": "stdout",
     "output_type": "stream",
     "text": [
      "<class 'pandas.core.frame.DataFrame'>\n",
      "RangeIndex: 365 entries, 0 to 364\n",
      "Data columns (total 28 columns):\n",
      " #   Column                   Non-Null Count  Dtype         \n",
      "---  ------                   --------------  -----         \n",
      " 0   WBANNO                   365 non-null    int64         \n",
      " 1   LST_DATE                 365 non-null    datetime64[ns]\n",
      " 2   CRX_VN                   365 non-null    float64       \n",
      " 3   LONGITUDE                365 non-null    float64       \n",
      " 4   LATITUDE                 365 non-null    float64       \n",
      " 5   T_DAILY_MAX              364 non-null    float64       \n",
      " 6   T_DAILY_MIN              364 non-null    float64       \n",
      " 7   T_DAILY_MEAN             364 non-null    float64       \n",
      " 8   T_DAILY_AVG              364 non-null    float64       \n",
      " 9   P_DAILY_CALC             364 non-null    float64       \n",
      " 10  SOLARAD_DAILY            364 non-null    float64       \n",
      " 11  SUR_TEMP_DAILY_TYPE      365 non-null    object        \n",
      " 12  SUR_TEMP_DAILY_MAX       364 non-null    float64       \n",
      " 13  SUR_TEMP_DAILY_MIN       364 non-null    float64       \n",
      " 14  SUR_TEMP_DAILY_AVG       364 non-null    float64       \n",
      " 15  RH_DAILY_MAX             364 non-null    float64       \n",
      " 16  RH_DAILY_MIN             364 non-null    float64       \n",
      " 17  RH_DAILY_AVG             364 non-null    float64       \n",
      " 18  SOIL_MOISTURE_5_DAILY    317 non-null    float64       \n",
      " 19  SOIL_MOISTURE_10_DAILY   317 non-null    float64       \n",
      " 20  SOIL_MOISTURE_20_DAILY   336 non-null    float64       \n",
      " 21  SOIL_MOISTURE_50_DAILY   364 non-null    float64       \n",
      " 22  SOIL_MOISTURE_100_DAILY  359 non-null    float64       \n",
      " 23  SOIL_TEMP_5_DAILY        364 non-null    float64       \n",
      " 24  SOIL_TEMP_10_DAILY       364 non-null    float64       \n",
      " 25  SOIL_TEMP_20_DAILY       364 non-null    float64       \n",
      " 26  SOIL_TEMP_50_DAILY       364 non-null    float64       \n",
      " 27  SOIL_TEMP_100_DAILY      364 non-null    float64       \n",
      "dtypes: datetime64[ns](1), float64(25), int64(1), object(1)\n",
      "memory usage: 80.0+ KB\n"
     ]
    }
   ],
   "source": [
    "df = pd.read_csv(datafile, sep='\\\\s+',\n",
    "                 na_values=[-9999.0, -99.0],\n",
    "                 parse_dates=[1])  #  try parsing column 1 as a separate date column\n",
    "df.info()\n",
    "# df.head()"
   ]
  },
  {
   "cell_type": "markdown",
   "metadata": {},
   "source": [
    "It worked! Finally, let's tell pandas to use the date column as the index."
   ]
  },
  {
   "cell_type": "code",
   "execution_count": 17,
   "metadata": {},
   "outputs": [
    {
     "data": {
      "text/html": [
       "<div>\n",
       "<style scoped>\n",
       "    .dataframe tbody tr th:only-of-type {\n",
       "        vertical-align: middle;\n",
       "    }\n",
       "\n",
       "    .dataframe tbody tr th {\n",
       "        vertical-align: top;\n",
       "    }\n",
       "\n",
       "    .dataframe thead th {\n",
       "        text-align: right;\n",
       "    }\n",
       "</style>\n",
       "<table border=\"1\" class=\"dataframe\">\n",
       "  <thead>\n",
       "    <tr style=\"text-align: right;\">\n",
       "      <th></th>\n",
       "      <th>WBANNO</th>\n",
       "      <th>CRX_VN</th>\n",
       "      <th>LONGITUDE</th>\n",
       "      <th>LATITUDE</th>\n",
       "      <th>T_DAILY_MAX</th>\n",
       "      <th>T_DAILY_MIN</th>\n",
       "      <th>T_DAILY_MEAN</th>\n",
       "      <th>T_DAILY_AVG</th>\n",
       "      <th>P_DAILY_CALC</th>\n",
       "      <th>SOLARAD_DAILY</th>\n",
       "      <th>...</th>\n",
       "      <th>SOIL_MOISTURE_5_DAILY</th>\n",
       "      <th>SOIL_MOISTURE_10_DAILY</th>\n",
       "      <th>SOIL_MOISTURE_20_DAILY</th>\n",
       "      <th>SOIL_MOISTURE_50_DAILY</th>\n",
       "      <th>SOIL_MOISTURE_100_DAILY</th>\n",
       "      <th>SOIL_TEMP_5_DAILY</th>\n",
       "      <th>SOIL_TEMP_10_DAILY</th>\n",
       "      <th>SOIL_TEMP_20_DAILY</th>\n",
       "      <th>SOIL_TEMP_50_DAILY</th>\n",
       "      <th>SOIL_TEMP_100_DAILY</th>\n",
       "    </tr>\n",
       "    <tr>\n",
       "      <th>LST_DATE</th>\n",
       "      <th></th>\n",
       "      <th></th>\n",
       "      <th></th>\n",
       "      <th></th>\n",
       "      <th></th>\n",
       "      <th></th>\n",
       "      <th></th>\n",
       "      <th></th>\n",
       "      <th></th>\n",
       "      <th></th>\n",
       "      <th></th>\n",
       "      <th></th>\n",
       "      <th></th>\n",
       "      <th></th>\n",
       "      <th></th>\n",
       "      <th></th>\n",
       "      <th></th>\n",
       "      <th></th>\n",
       "      <th></th>\n",
       "      <th></th>\n",
       "      <th></th>\n",
       "    </tr>\n",
       "  </thead>\n",
       "  <tbody>\n",
       "    <tr>\n",
       "      <th>2017-01-01</th>\n",
       "      <td>64756</td>\n",
       "      <td>2.422</td>\n",
       "      <td>-73.74</td>\n",
       "      <td>41.79</td>\n",
       "      <td>6.6</td>\n",
       "      <td>-5.4</td>\n",
       "      <td>0.6</td>\n",
       "      <td>2.2</td>\n",
       "      <td>0.0</td>\n",
       "      <td>8.68</td>\n",
       "      <td>...</td>\n",
       "      <td>NaN</td>\n",
       "      <td>NaN</td>\n",
       "      <td>0.207</td>\n",
       "      <td>0.152</td>\n",
       "      <td>0.175</td>\n",
       "      <td>-0.1</td>\n",
       "      <td>0.0</td>\n",
       "      <td>0.6</td>\n",
       "      <td>1.5</td>\n",
       "      <td>3.4</td>\n",
       "    </tr>\n",
       "    <tr>\n",
       "      <th>2017-01-02</th>\n",
       "      <td>64756</td>\n",
       "      <td>2.422</td>\n",
       "      <td>-73.74</td>\n",
       "      <td>41.79</td>\n",
       "      <td>4.0</td>\n",
       "      <td>-6.8</td>\n",
       "      <td>-1.4</td>\n",
       "      <td>-1.2</td>\n",
       "      <td>0.0</td>\n",
       "      <td>2.08</td>\n",
       "      <td>...</td>\n",
       "      <td>NaN</td>\n",
       "      <td>NaN</td>\n",
       "      <td>0.205</td>\n",
       "      <td>0.151</td>\n",
       "      <td>0.173</td>\n",
       "      <td>-0.2</td>\n",
       "      <td>0.0</td>\n",
       "      <td>0.6</td>\n",
       "      <td>1.5</td>\n",
       "      <td>3.3</td>\n",
       "    </tr>\n",
       "    <tr>\n",
       "      <th>2017-01-03</th>\n",
       "      <td>64756</td>\n",
       "      <td>2.422</td>\n",
       "      <td>-73.74</td>\n",
       "      <td>41.79</td>\n",
       "      <td>4.9</td>\n",
       "      <td>0.7</td>\n",
       "      <td>2.8</td>\n",
       "      <td>2.7</td>\n",
       "      <td>13.1</td>\n",
       "      <td>0.68</td>\n",
       "      <td>...</td>\n",
       "      <td>NaN</td>\n",
       "      <td>NaN</td>\n",
       "      <td>0.205</td>\n",
       "      <td>0.150</td>\n",
       "      <td>0.173</td>\n",
       "      <td>-0.1</td>\n",
       "      <td>0.0</td>\n",
       "      <td>0.5</td>\n",
       "      <td>1.5</td>\n",
       "      <td>3.3</td>\n",
       "    </tr>\n",
       "    <tr>\n",
       "      <th>2017-01-04</th>\n",
       "      <td>64756</td>\n",
       "      <td>2.422</td>\n",
       "      <td>-73.74</td>\n",
       "      <td>41.79</td>\n",
       "      <td>8.7</td>\n",
       "      <td>-1.6</td>\n",
       "      <td>3.6</td>\n",
       "      <td>3.5</td>\n",
       "      <td>1.3</td>\n",
       "      <td>2.85</td>\n",
       "      <td>...</td>\n",
       "      <td>NaN</td>\n",
       "      <td>NaN</td>\n",
       "      <td>0.215</td>\n",
       "      <td>0.153</td>\n",
       "      <td>0.174</td>\n",
       "      <td>-0.1</td>\n",
       "      <td>0.0</td>\n",
       "      <td>0.5</td>\n",
       "      <td>1.5</td>\n",
       "      <td>3.2</td>\n",
       "    </tr>\n",
       "    <tr>\n",
       "      <th>2017-01-05</th>\n",
       "      <td>64756</td>\n",
       "      <td>2.422</td>\n",
       "      <td>-73.74</td>\n",
       "      <td>41.79</td>\n",
       "      <td>-0.5</td>\n",
       "      <td>-4.6</td>\n",
       "      <td>-2.5</td>\n",
       "      <td>-2.8</td>\n",
       "      <td>0.0</td>\n",
       "      <td>4.90</td>\n",
       "      <td>...</td>\n",
       "      <td>NaN</td>\n",
       "      <td>NaN</td>\n",
       "      <td>0.215</td>\n",
       "      <td>0.154</td>\n",
       "      <td>0.177</td>\n",
       "      <td>-0.1</td>\n",
       "      <td>0.0</td>\n",
       "      <td>0.5</td>\n",
       "      <td>1.4</td>\n",
       "      <td>3.1</td>\n",
       "    </tr>\n",
       "  </tbody>\n",
       "</table>\n",
       "<p>5 rows × 27 columns</p>\n",
       "</div>"
      ],
      "text/plain": [
       "            WBANNO  CRX_VN  LONGITUDE  LATITUDE  T_DAILY_MAX  T_DAILY_MIN  \\\n",
       "LST_DATE                                                                    \n",
       "2017-01-01   64756   2.422     -73.74     41.79          6.6         -5.4   \n",
       "2017-01-02   64756   2.422     -73.74     41.79          4.0         -6.8   \n",
       "2017-01-03   64756   2.422     -73.74     41.79          4.9          0.7   \n",
       "2017-01-04   64756   2.422     -73.74     41.79          8.7         -1.6   \n",
       "2017-01-05   64756   2.422     -73.74     41.79         -0.5         -4.6   \n",
       "\n",
       "            T_DAILY_MEAN  T_DAILY_AVG  P_DAILY_CALC  SOLARAD_DAILY  ...  \\\n",
       "LST_DATE                                                            ...   \n",
       "2017-01-01           0.6          2.2           0.0           8.68  ...   \n",
       "2017-01-02          -1.4         -1.2           0.0           2.08  ...   \n",
       "2017-01-03           2.8          2.7          13.1           0.68  ...   \n",
       "2017-01-04           3.6          3.5           1.3           2.85  ...   \n",
       "2017-01-05          -2.5         -2.8           0.0           4.90  ...   \n",
       "\n",
       "           SOIL_MOISTURE_5_DAILY  SOIL_MOISTURE_10_DAILY  \\\n",
       "LST_DATE                                                   \n",
       "2017-01-01                   NaN                     NaN   \n",
       "2017-01-02                   NaN                     NaN   \n",
       "2017-01-03                   NaN                     NaN   \n",
       "2017-01-04                   NaN                     NaN   \n",
       "2017-01-05                   NaN                     NaN   \n",
       "\n",
       "            SOIL_MOISTURE_20_DAILY  SOIL_MOISTURE_50_DAILY  \\\n",
       "LST_DATE                                                     \n",
       "2017-01-01                   0.207                   0.152   \n",
       "2017-01-02                   0.205                   0.151   \n",
       "2017-01-03                   0.205                   0.150   \n",
       "2017-01-04                   0.215                   0.153   \n",
       "2017-01-05                   0.215                   0.154   \n",
       "\n",
       "            SOIL_MOISTURE_100_DAILY  SOIL_TEMP_5_DAILY  SOIL_TEMP_10_DAILY  \\\n",
       "LST_DATE                                                                     \n",
       "2017-01-01                    0.175               -0.1                 0.0   \n",
       "2017-01-02                    0.173               -0.2                 0.0   \n",
       "2017-01-03                    0.173               -0.1                 0.0   \n",
       "2017-01-04                    0.174               -0.1                 0.0   \n",
       "2017-01-05                    0.177               -0.1                 0.0   \n",
       "\n",
       "            SOIL_TEMP_20_DAILY  SOIL_TEMP_50_DAILY  SOIL_TEMP_100_DAILY  \n",
       "LST_DATE                                                                 \n",
       "2017-01-01                 0.6                 1.5                  3.4  \n",
       "2017-01-02                 0.6                 1.5                  3.3  \n",
       "2017-01-03                 0.5                 1.5                  3.3  \n",
       "2017-01-04                 0.5                 1.5                  3.2  \n",
       "2017-01-05                 0.5                 1.4                  3.1  \n",
       "\n",
       "[5 rows x 27 columns]"
      ]
     },
     "execution_count": 17,
     "metadata": {},
     "output_type": "execute_result"
    }
   ],
   "source": [
    "df = df.set_index('LST_DATE')\n",
    "df.head()"
   ]
  },
  {
   "cell_type": "code",
   "execution_count": 18,
   "metadata": {},
   "outputs": [
    {
     "data": {
      "text/plain": [
       "DatetimeIndex(['2017-01-01', '2017-01-02', '2017-01-03', '2017-01-04',\n",
       "               '2017-01-05', '2017-01-06', '2017-01-07', '2017-01-08',\n",
       "               '2017-01-09', '2017-01-10',\n",
       "               ...\n",
       "               '2017-12-22', '2017-12-23', '2017-12-24', '2017-12-25',\n",
       "               '2017-12-26', '2017-12-27', '2017-12-28', '2017-12-29',\n",
       "               '2017-12-30', '2017-12-31'],\n",
       "              dtype='datetime64[ns]', name='LST_DATE', length=365, freq=None)"
      ]
     },
     "execution_count": 18,
     "metadata": {},
     "output_type": "execute_result"
    }
   ],
   "source": [
    "df.index"
   ]
  },
  {
   "cell_type": "code",
   "execution_count": 19,
   "metadata": {},
   "outputs": [
    {
     "data": {
      "text/plain": [
       "Index(['WBANNO', 'CRX_VN', 'LONGITUDE', 'LATITUDE', 'T_DAILY_MAX',\n",
       "       'T_DAILY_MIN', 'T_DAILY_MEAN', 'T_DAILY_AVG', 'P_DAILY_CALC',\n",
       "       'SOLARAD_DAILY', 'SUR_TEMP_DAILY_TYPE', 'SUR_TEMP_DAILY_MAX',\n",
       "       'SUR_TEMP_DAILY_MIN', 'SUR_TEMP_DAILY_AVG', 'RH_DAILY_MAX',\n",
       "       'RH_DAILY_MIN', 'RH_DAILY_AVG', 'SOIL_MOISTURE_5_DAILY',\n",
       "       'SOIL_MOISTURE_10_DAILY', 'SOIL_MOISTURE_20_DAILY',\n",
       "       'SOIL_MOISTURE_50_DAILY', 'SOIL_MOISTURE_100_DAILY',\n",
       "       'SOIL_TEMP_5_DAILY', 'SOIL_TEMP_10_DAILY', 'SOIL_TEMP_20_DAILY',\n",
       "       'SOIL_TEMP_50_DAILY', 'SOIL_TEMP_100_DAILY'],\n",
       "      dtype='object')"
      ]
     },
     "execution_count": 19,
     "metadata": {},
     "output_type": "execute_result"
    }
   ],
   "source": [
    "df.columns"
   ]
  },
  {
   "cell_type": "markdown",
   "metadata": {},
   "source": [
    "We can now access values by time:"
   ]
  },
  {
   "cell_type": "code",
   "execution_count": 28,
   "metadata": {},
   "outputs": [
    {
     "data": {
      "text/plain": [
       "WBANNO                     64756\n",
       "CRX_VN                     2.422\n",
       "LONGITUDE                 -73.74\n",
       "LATITUDE                   41.79\n",
       "T_DAILY_MAX                 19.3\n",
       "T_DAILY_MIN                 12.3\n",
       "T_DAILY_MEAN                15.8\n",
       "T_DAILY_AVG                 16.3\n",
       "P_DAILY_CALC                 4.9\n",
       "SOLARAD_DAILY               3.93\n",
       "SUR_TEMP_DAILY_TYPE            C\n",
       "SUR_TEMP_DAILY_MAX          22.3\n",
       "SUR_TEMP_DAILY_MIN          11.9\n",
       "SUR_TEMP_DAILY_AVG          17.7\n",
       "RH_DAILY_MAX                94.7\n",
       "RH_DAILY_MIN                76.4\n",
       "RH_DAILY_AVG                89.5\n",
       "SOIL_MOISTURE_5_DAILY      0.148\n",
       "SOIL_MOISTURE_10_DAILY     0.113\n",
       "SOIL_MOISTURE_20_DAILY     0.094\n",
       "SOIL_MOISTURE_50_DAILY     0.114\n",
       "SOIL_MOISTURE_100_DAILY    0.151\n",
       "SOIL_TEMP_5_DAILY           21.4\n",
       "SOIL_TEMP_10_DAILY          21.7\n",
       "SOIL_TEMP_20_DAILY          22.1\n",
       "SOIL_TEMP_50_DAILY          22.2\n",
       "SOIL_TEMP_100_DAILY         21.5\n",
       "Name: 2017-08-07 00:00:00, dtype: object"
      ]
     },
     "execution_count": 28,
     "metadata": {},
     "output_type": "execute_result"
    }
   ],
   "source": [
    "df.loc['2017-08-07']"
   ]
  },
  {
   "cell_type": "markdown",
   "metadata": {},
   "source": [
    "Or use slicing to get a range:"
   ]
  },
  {
   "cell_type": "code",
   "execution_count": 29,
   "metadata": {},
   "outputs": [
    {
     "data": {
      "text/html": [
       "<div>\n",
       "<style scoped>\n",
       "    .dataframe tbody tr th:only-of-type {\n",
       "        vertical-align: middle;\n",
       "    }\n",
       "\n",
       "    .dataframe tbody tr th {\n",
       "        vertical-align: top;\n",
       "    }\n",
       "\n",
       "    .dataframe thead th {\n",
       "        text-align: right;\n",
       "    }\n",
       "</style>\n",
       "<table border=\"1\" class=\"dataframe\">\n",
       "  <thead>\n",
       "    <tr style=\"text-align: right;\">\n",
       "      <th></th>\n",
       "      <th>WBANNO</th>\n",
       "      <th>CRX_VN</th>\n",
       "      <th>LONGITUDE</th>\n",
       "      <th>LATITUDE</th>\n",
       "      <th>T_DAILY_MAX</th>\n",
       "      <th>T_DAILY_MIN</th>\n",
       "      <th>T_DAILY_MEAN</th>\n",
       "      <th>T_DAILY_AVG</th>\n",
       "      <th>P_DAILY_CALC</th>\n",
       "      <th>SOLARAD_DAILY</th>\n",
       "      <th>...</th>\n",
       "      <th>SOIL_MOISTURE_5_DAILY</th>\n",
       "      <th>SOIL_MOISTURE_10_DAILY</th>\n",
       "      <th>SOIL_MOISTURE_20_DAILY</th>\n",
       "      <th>SOIL_MOISTURE_50_DAILY</th>\n",
       "      <th>SOIL_MOISTURE_100_DAILY</th>\n",
       "      <th>SOIL_TEMP_5_DAILY</th>\n",
       "      <th>SOIL_TEMP_10_DAILY</th>\n",
       "      <th>SOIL_TEMP_20_DAILY</th>\n",
       "      <th>SOIL_TEMP_50_DAILY</th>\n",
       "      <th>SOIL_TEMP_100_DAILY</th>\n",
       "    </tr>\n",
       "    <tr>\n",
       "      <th>LST_DATE</th>\n",
       "      <th></th>\n",
       "      <th></th>\n",
       "      <th></th>\n",
       "      <th></th>\n",
       "      <th></th>\n",
       "      <th></th>\n",
       "      <th></th>\n",
       "      <th></th>\n",
       "      <th></th>\n",
       "      <th></th>\n",
       "      <th></th>\n",
       "      <th></th>\n",
       "      <th></th>\n",
       "      <th></th>\n",
       "      <th></th>\n",
       "      <th></th>\n",
       "      <th></th>\n",
       "      <th></th>\n",
       "      <th></th>\n",
       "      <th></th>\n",
       "      <th></th>\n",
       "    </tr>\n",
       "  </thead>\n",
       "  <tbody>\n",
       "    <tr>\n",
       "      <th>2017-07-01</th>\n",
       "      <td>64756</td>\n",
       "      <td>2.422</td>\n",
       "      <td>-73.74</td>\n",
       "      <td>41.79</td>\n",
       "      <td>28.0</td>\n",
       "      <td>19.7</td>\n",
       "      <td>23.9</td>\n",
       "      <td>23.8</td>\n",
       "      <td>0.2</td>\n",
       "      <td>19.28</td>\n",
       "      <td>...</td>\n",
       "      <td>0.157</td>\n",
       "      <td>0.136</td>\n",
       "      <td>0.144</td>\n",
       "      <td>0.129</td>\n",
       "      <td>0.163</td>\n",
       "      <td>25.7</td>\n",
       "      <td>25.4</td>\n",
       "      <td>23.7</td>\n",
       "      <td>21.9</td>\n",
       "      <td>19.9</td>\n",
       "    </tr>\n",
       "    <tr>\n",
       "      <th>2017-07-02</th>\n",
       "      <td>64756</td>\n",
       "      <td>2.422</td>\n",
       "      <td>-73.74</td>\n",
       "      <td>41.79</td>\n",
       "      <td>29.8</td>\n",
       "      <td>18.4</td>\n",
       "      <td>24.1</td>\n",
       "      <td>23.7</td>\n",
       "      <td>4.0</td>\n",
       "      <td>27.67</td>\n",
       "      <td>...</td>\n",
       "      <td>0.146</td>\n",
       "      <td>0.135</td>\n",
       "      <td>0.143</td>\n",
       "      <td>0.129</td>\n",
       "      <td>0.162</td>\n",
       "      <td>26.8</td>\n",
       "      <td>26.4</td>\n",
       "      <td>24.5</td>\n",
       "      <td>22.3</td>\n",
       "      <td>20.1</td>\n",
       "    </tr>\n",
       "    <tr>\n",
       "      <th>2017-07-03</th>\n",
       "      <td>64756</td>\n",
       "      <td>2.422</td>\n",
       "      <td>-73.74</td>\n",
       "      <td>41.79</td>\n",
       "      <td>28.3</td>\n",
       "      <td>15.0</td>\n",
       "      <td>21.7</td>\n",
       "      <td>21.4</td>\n",
       "      <td>0.0</td>\n",
       "      <td>27.08</td>\n",
       "      <td>...</td>\n",
       "      <td>0.141</td>\n",
       "      <td>0.132</td>\n",
       "      <td>0.139</td>\n",
       "      <td>0.128</td>\n",
       "      <td>0.162</td>\n",
       "      <td>26.4</td>\n",
       "      <td>26.3</td>\n",
       "      <td>24.8</td>\n",
       "      <td>22.8</td>\n",
       "      <td>20.3</td>\n",
       "    </tr>\n",
       "    <tr>\n",
       "      <th>2017-07-04</th>\n",
       "      <td>64756</td>\n",
       "      <td>2.422</td>\n",
       "      <td>-73.74</td>\n",
       "      <td>41.79</td>\n",
       "      <td>26.8</td>\n",
       "      <td>12.6</td>\n",
       "      <td>19.7</td>\n",
       "      <td>20.0</td>\n",
       "      <td>0.0</td>\n",
       "      <td>29.45</td>\n",
       "      <td>...</td>\n",
       "      <td>0.131</td>\n",
       "      <td>0.126</td>\n",
       "      <td>0.136</td>\n",
       "      <td>0.126</td>\n",
       "      <td>0.161</td>\n",
       "      <td>25.9</td>\n",
       "      <td>25.8</td>\n",
       "      <td>24.6</td>\n",
       "      <td>22.9</td>\n",
       "      <td>20.6</td>\n",
       "    </tr>\n",
       "    <tr>\n",
       "      <th>2017-07-05</th>\n",
       "      <td>64756</td>\n",
       "      <td>2.422</td>\n",
       "      <td>-73.74</td>\n",
       "      <td>41.79</td>\n",
       "      <td>28.0</td>\n",
       "      <td>11.9</td>\n",
       "      <td>20.0</td>\n",
       "      <td>20.7</td>\n",
       "      <td>0.0</td>\n",
       "      <td>26.90</td>\n",
       "      <td>...</td>\n",
       "      <td>0.116</td>\n",
       "      <td>0.114</td>\n",
       "      <td>0.131</td>\n",
       "      <td>0.125</td>\n",
       "      <td>0.161</td>\n",
       "      <td>25.3</td>\n",
       "      <td>25.3</td>\n",
       "      <td>24.2</td>\n",
       "      <td>22.8</td>\n",
       "      <td>20.7</td>\n",
       "    </tr>\n",
       "    <tr>\n",
       "      <th>2017-07-06</th>\n",
       "      <td>64756</td>\n",
       "      <td>2.422</td>\n",
       "      <td>-73.74</td>\n",
       "      <td>41.79</td>\n",
       "      <td>25.7</td>\n",
       "      <td>14.3</td>\n",
       "      <td>20.0</td>\n",
       "      <td>20.3</td>\n",
       "      <td>0.0</td>\n",
       "      <td>19.03</td>\n",
       "      <td>...</td>\n",
       "      <td>0.105</td>\n",
       "      <td>0.104</td>\n",
       "      <td>0.126</td>\n",
       "      <td>0.124</td>\n",
       "      <td>0.160</td>\n",
       "      <td>24.7</td>\n",
       "      <td>24.7</td>\n",
       "      <td>23.9</td>\n",
       "      <td>22.7</td>\n",
       "      <td>20.9</td>\n",
       "    </tr>\n",
       "    <tr>\n",
       "      <th>2017-07-07</th>\n",
       "      <td>64756</td>\n",
       "      <td>2.422</td>\n",
       "      <td>-73.74</td>\n",
       "      <td>41.79</td>\n",
       "      <td>25.8</td>\n",
       "      <td>16.8</td>\n",
       "      <td>21.3</td>\n",
       "      <td>20.0</td>\n",
       "      <td>11.5</td>\n",
       "      <td>13.88</td>\n",
       "      <td>...</td>\n",
       "      <td>0.114</td>\n",
       "      <td>0.100</td>\n",
       "      <td>0.123</td>\n",
       "      <td>0.123</td>\n",
       "      <td>0.160</td>\n",
       "      <td>24.2</td>\n",
       "      <td>24.2</td>\n",
       "      <td>23.4</td>\n",
       "      <td>22.4</td>\n",
       "      <td>20.8</td>\n",
       "    </tr>\n",
       "    <tr>\n",
       "      <th>2017-07-08</th>\n",
       "      <td>64756</td>\n",
       "      <td>2.422</td>\n",
       "      <td>-73.74</td>\n",
       "      <td>41.79</td>\n",
       "      <td>29.0</td>\n",
       "      <td>15.3</td>\n",
       "      <td>22.1</td>\n",
       "      <td>21.5</td>\n",
       "      <td>0.0</td>\n",
       "      <td>21.92</td>\n",
       "      <td>...</td>\n",
       "      <td>0.130</td>\n",
       "      <td>0.106</td>\n",
       "      <td>0.122</td>\n",
       "      <td>0.123</td>\n",
       "      <td>0.159</td>\n",
       "      <td>25.5</td>\n",
       "      <td>25.3</td>\n",
       "      <td>23.9</td>\n",
       "      <td>22.4</td>\n",
       "      <td>20.8</td>\n",
       "    </tr>\n",
       "    <tr>\n",
       "      <th>2017-07-09</th>\n",
       "      <td>64756</td>\n",
       "      <td>2.422</td>\n",
       "      <td>-73.74</td>\n",
       "      <td>41.79</td>\n",
       "      <td>26.3</td>\n",
       "      <td>10.9</td>\n",
       "      <td>18.6</td>\n",
       "      <td>19.4</td>\n",
       "      <td>0.0</td>\n",
       "      <td>29.72</td>\n",
       "      <td>...</td>\n",
       "      <td>0.119</td>\n",
       "      <td>0.103</td>\n",
       "      <td>0.119</td>\n",
       "      <td>0.121</td>\n",
       "      <td>0.158</td>\n",
       "      <td>24.8</td>\n",
       "      <td>24.8</td>\n",
       "      <td>23.8</td>\n",
       "      <td>22.5</td>\n",
       "      <td>20.8</td>\n",
       "    </tr>\n",
       "    <tr>\n",
       "      <th>2017-07-10</th>\n",
       "      <td>64756</td>\n",
       "      <td>2.422</td>\n",
       "      <td>-73.74</td>\n",
       "      <td>41.79</td>\n",
       "      <td>27.6</td>\n",
       "      <td>11.8</td>\n",
       "      <td>19.7</td>\n",
       "      <td>21.3</td>\n",
       "      <td>0.0</td>\n",
       "      <td>23.67</td>\n",
       "      <td>...</td>\n",
       "      <td>0.105</td>\n",
       "      <td>0.096</td>\n",
       "      <td>0.113</td>\n",
       "      <td>0.120</td>\n",
       "      <td>0.158</td>\n",
       "      <td>24.7</td>\n",
       "      <td>24.7</td>\n",
       "      <td>23.6</td>\n",
       "      <td>22.5</td>\n",
       "      <td>20.9</td>\n",
       "    </tr>\n",
       "    <tr>\n",
       "      <th>2017-07-11</th>\n",
       "      <td>64756</td>\n",
       "      <td>2.422</td>\n",
       "      <td>-73.74</td>\n",
       "      <td>41.79</td>\n",
       "      <td>27.4</td>\n",
       "      <td>19.2</td>\n",
       "      <td>23.3</td>\n",
       "      <td>22.6</td>\n",
       "      <td>8.5</td>\n",
       "      <td>17.79</td>\n",
       "      <td>...</td>\n",
       "      <td>0.106</td>\n",
       "      <td>0.093</td>\n",
       "      <td>0.110</td>\n",
       "      <td>0.120</td>\n",
       "      <td>0.157</td>\n",
       "      <td>25.6</td>\n",
       "      <td>25.4</td>\n",
       "      <td>24.1</td>\n",
       "      <td>22.6</td>\n",
       "      <td>20.9</td>\n",
       "    </tr>\n",
       "    <tr>\n",
       "      <th>2017-07-12</th>\n",
       "      <td>64756</td>\n",
       "      <td>2.422</td>\n",
       "      <td>-73.74</td>\n",
       "      <td>41.79</td>\n",
       "      <td>29.4</td>\n",
       "      <td>18.5</td>\n",
       "      <td>23.9</td>\n",
       "      <td>23.1</td>\n",
       "      <td>1.9</td>\n",
       "      <td>16.27</td>\n",
       "      <td>...</td>\n",
       "      <td>0.108</td>\n",
       "      <td>0.094</td>\n",
       "      <td>0.108</td>\n",
       "      <td>0.118</td>\n",
       "      <td>0.157</td>\n",
       "      <td>25.8</td>\n",
       "      <td>25.6</td>\n",
       "      <td>24.2</td>\n",
       "      <td>22.8</td>\n",
       "      <td>21.0</td>\n",
       "    </tr>\n",
       "    <tr>\n",
       "      <th>2017-07-13</th>\n",
       "      <td>64756</td>\n",
       "      <td>2.422</td>\n",
       "      <td>-73.74</td>\n",
       "      <td>41.79</td>\n",
       "      <td>29.5</td>\n",
       "      <td>18.3</td>\n",
       "      <td>23.9</td>\n",
       "      <td>23.4</td>\n",
       "      <td>23.3</td>\n",
       "      <td>13.61</td>\n",
       "      <td>...</td>\n",
       "      <td>0.134</td>\n",
       "      <td>0.110</td>\n",
       "      <td>0.108</td>\n",
       "      <td>0.118</td>\n",
       "      <td>0.156</td>\n",
       "      <td>25.7</td>\n",
       "      <td>25.7</td>\n",
       "      <td>24.4</td>\n",
       "      <td>23.0</td>\n",
       "      <td>21.0</td>\n",
       "    </tr>\n",
       "    <tr>\n",
       "      <th>2017-07-14</th>\n",
       "      <td>64756</td>\n",
       "      <td>2.422</td>\n",
       "      <td>-73.74</td>\n",
       "      <td>41.79</td>\n",
       "      <td>18.5</td>\n",
       "      <td>15.9</td>\n",
       "      <td>17.2</td>\n",
       "      <td>17.5</td>\n",
       "      <td>4.1</td>\n",
       "      <td>5.36</td>\n",
       "      <td>...</td>\n",
       "      <td>0.194</td>\n",
       "      <td>0.151</td>\n",
       "      <td>0.114</td>\n",
       "      <td>0.120</td>\n",
       "      <td>0.155</td>\n",
       "      <td>23.0</td>\n",
       "      <td>23.3</td>\n",
       "      <td>23.4</td>\n",
       "      <td>22.9</td>\n",
       "      <td>21.2</td>\n",
       "    </tr>\n",
       "    <tr>\n",
       "      <th>2017-07-15</th>\n",
       "      <td>64756</td>\n",
       "      <td>2.422</td>\n",
       "      <td>-73.74</td>\n",
       "      <td>41.79</td>\n",
       "      <td>26.6</td>\n",
       "      <td>16.5</td>\n",
       "      <td>21.5</td>\n",
       "      <td>21.0</td>\n",
       "      <td>0.8</td>\n",
       "      <td>21.13</td>\n",
       "      <td>...</td>\n",
       "      <td>0.190</td>\n",
       "      <td>0.163</td>\n",
       "      <td>0.119</td>\n",
       "      <td>0.122</td>\n",
       "      <td>0.155</td>\n",
       "      <td>24.6</td>\n",
       "      <td>24.4</td>\n",
       "      <td>23.2</td>\n",
       "      <td>22.2</td>\n",
       "      <td>21.2</td>\n",
       "    </tr>\n",
       "    <tr>\n",
       "      <th>2017-07-16</th>\n",
       "      <td>64756</td>\n",
       "      <td>2.422</td>\n",
       "      <td>-73.74</td>\n",
       "      <td>41.79</td>\n",
       "      <td>27.9</td>\n",
       "      <td>13.3</td>\n",
       "      <td>20.6</td>\n",
       "      <td>21.0</td>\n",
       "      <td>0.0</td>\n",
       "      <td>27.03</td>\n",
       "      <td>...</td>\n",
       "      <td>0.171</td>\n",
       "      <td>0.154</td>\n",
       "      <td>0.123</td>\n",
       "      <td>0.123</td>\n",
       "      <td>0.155</td>\n",
       "      <td>25.4</td>\n",
       "      <td>25.3</td>\n",
       "      <td>23.9</td>\n",
       "      <td>22.6</td>\n",
       "      <td>21.1</td>\n",
       "    </tr>\n",
       "    <tr>\n",
       "      <th>2017-07-17</th>\n",
       "      <td>64756</td>\n",
       "      <td>2.422</td>\n",
       "      <td>-73.74</td>\n",
       "      <td>41.79</td>\n",
       "      <td>29.2</td>\n",
       "      <td>16.1</td>\n",
       "      <td>22.6</td>\n",
       "      <td>22.9</td>\n",
       "      <td>0.0</td>\n",
       "      <td>20.47</td>\n",
       "      <td>...</td>\n",
       "      <td>0.155</td>\n",
       "      <td>0.143</td>\n",
       "      <td>0.124</td>\n",
       "      <td>0.122</td>\n",
       "      <td>0.156</td>\n",
       "      <td>25.7</td>\n",
       "      <td>25.6</td>\n",
       "      <td>24.4</td>\n",
       "      <td>22.9</td>\n",
       "      <td>21.2</td>\n",
       "    </tr>\n",
       "    <tr>\n",
       "      <th>2017-07-18</th>\n",
       "      <td>64756</td>\n",
       "      <td>2.422</td>\n",
       "      <td>-73.74</td>\n",
       "      <td>41.79</td>\n",
       "      <td>30.3</td>\n",
       "      <td>19.3</td>\n",
       "      <td>24.8</td>\n",
       "      <td>24.7</td>\n",
       "      <td>0.0</td>\n",
       "      <td>24.99</td>\n",
       "      <td>...</td>\n",
       "      <td>0.142</td>\n",
       "      <td>0.132</td>\n",
       "      <td>0.122</td>\n",
       "      <td>0.122</td>\n",
       "      <td>0.156</td>\n",
       "      <td>27.0</td>\n",
       "      <td>26.7</td>\n",
       "      <td>24.9</td>\n",
       "      <td>23.2</td>\n",
       "      <td>21.3</td>\n",
       "    </tr>\n",
       "    <tr>\n",
       "      <th>2017-07-19</th>\n",
       "      <td>64756</td>\n",
       "      <td>2.422</td>\n",
       "      <td>-73.74</td>\n",
       "      <td>41.79</td>\n",
       "      <td>31.2</td>\n",
       "      <td>19.1</td>\n",
       "      <td>25.1</td>\n",
       "      <td>25.0</td>\n",
       "      <td>0.0</td>\n",
       "      <td>27.69</td>\n",
       "      <td>...</td>\n",
       "      <td>0.126</td>\n",
       "      <td>0.118</td>\n",
       "      <td>0.118</td>\n",
       "      <td>0.122</td>\n",
       "      <td>0.156</td>\n",
       "      <td>27.6</td>\n",
       "      <td>27.4</td>\n",
       "      <td>25.6</td>\n",
       "      <td>23.7</td>\n",
       "      <td>21.5</td>\n",
       "    </tr>\n",
       "    <tr>\n",
       "      <th>2017-07-20</th>\n",
       "      <td>64756</td>\n",
       "      <td>2.422</td>\n",
       "      <td>-73.74</td>\n",
       "      <td>41.79</td>\n",
       "      <td>31.8</td>\n",
       "      <td>16.6</td>\n",
       "      <td>24.2</td>\n",
       "      <td>23.4</td>\n",
       "      <td>0.7</td>\n",
       "      <td>21.53</td>\n",
       "      <td>...</td>\n",
       "      <td>0.111</td>\n",
       "      <td>0.103</td>\n",
       "      <td>0.114</td>\n",
       "      <td>0.121</td>\n",
       "      <td>0.156</td>\n",
       "      <td>27.0</td>\n",
       "      <td>27.0</td>\n",
       "      <td>25.6</td>\n",
       "      <td>24.0</td>\n",
       "      <td>21.7</td>\n",
       "    </tr>\n",
       "    <tr>\n",
       "      <th>2017-07-21</th>\n",
       "      <td>64756</td>\n",
       "      <td>2.422</td>\n",
       "      <td>-73.74</td>\n",
       "      <td>41.79</td>\n",
       "      <td>30.6</td>\n",
       "      <td>16.6</td>\n",
       "      <td>23.6</td>\n",
       "      <td>23.6</td>\n",
       "      <td>0.0</td>\n",
       "      <td>25.55</td>\n",
       "      <td>...</td>\n",
       "      <td>0.100</td>\n",
       "      <td>0.093</td>\n",
       "      <td>0.108</td>\n",
       "      <td>0.120</td>\n",
       "      <td>0.155</td>\n",
       "      <td>27.1</td>\n",
       "      <td>27.0</td>\n",
       "      <td>25.5</td>\n",
       "      <td>24.0</td>\n",
       "      <td>21.9</td>\n",
       "    </tr>\n",
       "    <tr>\n",
       "      <th>2017-07-22</th>\n",
       "      <td>64756</td>\n",
       "      <td>2.422</td>\n",
       "      <td>-73.74</td>\n",
       "      <td>41.79</td>\n",
       "      <td>27.7</td>\n",
       "      <td>15.6</td>\n",
       "      <td>21.7</td>\n",
       "      <td>21.2</td>\n",
       "      <td>0.5</td>\n",
       "      <td>16.04</td>\n",
       "      <td>...</td>\n",
       "      <td>0.092</td>\n",
       "      <td>0.086</td>\n",
       "      <td>0.104</td>\n",
       "      <td>0.119</td>\n",
       "      <td>0.156</td>\n",
       "      <td>25.9</td>\n",
       "      <td>26.1</td>\n",
       "      <td>25.3</td>\n",
       "      <td>24.1</td>\n",
       "      <td>22.0</td>\n",
       "    </tr>\n",
       "    <tr>\n",
       "      <th>2017-07-23</th>\n",
       "      <td>64756</td>\n",
       "      <td>2.422</td>\n",
       "      <td>-73.74</td>\n",
       "      <td>41.79</td>\n",
       "      <td>26.4</td>\n",
       "      <td>18.5</td>\n",
       "      <td>22.5</td>\n",
       "      <td>22.2</td>\n",
       "      <td>0.0</td>\n",
       "      <td>19.03</td>\n",
       "      <td>...</td>\n",
       "      <td>0.087</td>\n",
       "      <td>0.082</td>\n",
       "      <td>0.100</td>\n",
       "      <td>0.118</td>\n",
       "      <td>0.155</td>\n",
       "      <td>26.0</td>\n",
       "      <td>26.0</td>\n",
       "      <td>24.9</td>\n",
       "      <td>23.8</td>\n",
       "      <td>22.1</td>\n",
       "    </tr>\n",
       "    <tr>\n",
       "      <th>2017-07-24</th>\n",
       "      <td>64756</td>\n",
       "      <td>2.422</td>\n",
       "      <td>-73.74</td>\n",
       "      <td>41.79</td>\n",
       "      <td>19.4</td>\n",
       "      <td>14.8</td>\n",
       "      <td>17.1</td>\n",
       "      <td>16.7</td>\n",
       "      <td>29.2</td>\n",
       "      <td>9.10</td>\n",
       "      <td>...</td>\n",
       "      <td>0.145</td>\n",
       "      <td>0.118</td>\n",
       "      <td>0.102</td>\n",
       "      <td>0.117</td>\n",
       "      <td>0.154</td>\n",
       "      <td>23.1</td>\n",
       "      <td>23.6</td>\n",
       "      <td>23.9</td>\n",
       "      <td>23.5</td>\n",
       "      <td>22.1</td>\n",
       "    </tr>\n",
       "    <tr>\n",
       "      <th>2017-07-25</th>\n",
       "      <td>64756</td>\n",
       "      <td>2.422</td>\n",
       "      <td>-73.74</td>\n",
       "      <td>41.79</td>\n",
       "      <td>18.6</td>\n",
       "      <td>13.7</td>\n",
       "      <td>16.2</td>\n",
       "      <td>16.2</td>\n",
       "      <td>0.0</td>\n",
       "      <td>7.35</td>\n",
       "      <td>...</td>\n",
       "      <td>0.167</td>\n",
       "      <td>0.133</td>\n",
       "      <td>0.107</td>\n",
       "      <td>0.116</td>\n",
       "      <td>0.153</td>\n",
       "      <td>21.9</td>\n",
       "      <td>22.2</td>\n",
       "      <td>22.4</td>\n",
       "      <td>22.5</td>\n",
       "      <td>21.9</td>\n",
       "    </tr>\n",
       "    <tr>\n",
       "      <th>2017-07-26</th>\n",
       "      <td>64756</td>\n",
       "      <td>2.422</td>\n",
       "      <td>-73.74</td>\n",
       "      <td>41.79</td>\n",
       "      <td>24.7</td>\n",
       "      <td>11.2</td>\n",
       "      <td>18.0</td>\n",
       "      <td>18.3</td>\n",
       "      <td>0.0</td>\n",
       "      <td>22.22</td>\n",
       "      <td>...</td>\n",
       "      <td>0.155</td>\n",
       "      <td>0.128</td>\n",
       "      <td>0.108</td>\n",
       "      <td>0.118</td>\n",
       "      <td>0.152</td>\n",
       "      <td>22.9</td>\n",
       "      <td>23.0</td>\n",
       "      <td>22.3</td>\n",
       "      <td>22.0</td>\n",
       "      <td>21.7</td>\n",
       "    </tr>\n",
       "    <tr>\n",
       "      <th>2017-07-27</th>\n",
       "      <td>64756</td>\n",
       "      <td>2.422</td>\n",
       "      <td>-73.74</td>\n",
       "      <td>41.79</td>\n",
       "      <td>24.2</td>\n",
       "      <td>15.2</td>\n",
       "      <td>19.7</td>\n",
       "      <td>19.5</td>\n",
       "      <td>0.0</td>\n",
       "      <td>8.28</td>\n",
       "      <td>...</td>\n",
       "      <td>0.144</td>\n",
       "      <td>0.122</td>\n",
       "      <td>0.109</td>\n",
       "      <td>0.118</td>\n",
       "      <td>0.154</td>\n",
       "      <td>22.5</td>\n",
       "      <td>22.7</td>\n",
       "      <td>22.4</td>\n",
       "      <td>22.0</td>\n",
       "      <td>21.4</td>\n",
       "    </tr>\n",
       "    <tr>\n",
       "      <th>2017-07-28</th>\n",
       "      <td>64756</td>\n",
       "      <td>2.422</td>\n",
       "      <td>-73.74</td>\n",
       "      <td>41.79</td>\n",
       "      <td>26.5</td>\n",
       "      <td>16.9</td>\n",
       "      <td>21.7</td>\n",
       "      <td>20.9</td>\n",
       "      <td>0.0</td>\n",
       "      <td>21.06</td>\n",
       "      <td>...</td>\n",
       "      <td>0.137</td>\n",
       "      <td>0.117</td>\n",
       "      <td>0.110</td>\n",
       "      <td>0.119</td>\n",
       "      <td>0.154</td>\n",
       "      <td>24.1</td>\n",
       "      <td>24.1</td>\n",
       "      <td>22.8</td>\n",
       "      <td>22.0</td>\n",
       "      <td>21.3</td>\n",
       "    </tr>\n",
       "    <tr>\n",
       "      <th>2017-07-29</th>\n",
       "      <td>64756</td>\n",
       "      <td>2.422</td>\n",
       "      <td>-73.74</td>\n",
       "      <td>41.79</td>\n",
       "      <td>24.2</td>\n",
       "      <td>10.4</td>\n",
       "      <td>17.3</td>\n",
       "      <td>18.1</td>\n",
       "      <td>0.0</td>\n",
       "      <td>21.28</td>\n",
       "      <td>...</td>\n",
       "      <td>0.126</td>\n",
       "      <td>0.108</td>\n",
       "      <td>0.108</td>\n",
       "      <td>0.118</td>\n",
       "      <td>0.154</td>\n",
       "      <td>23.3</td>\n",
       "      <td>23.6</td>\n",
       "      <td>23.0</td>\n",
       "      <td>22.2</td>\n",
       "      <td>21.3</td>\n",
       "    </tr>\n",
       "    <tr>\n",
       "      <th>2017-07-30</th>\n",
       "      <td>64756</td>\n",
       "      <td>2.422</td>\n",
       "      <td>-73.74</td>\n",
       "      <td>41.79</td>\n",
       "      <td>25.5</td>\n",
       "      <td>8.2</td>\n",
       "      <td>16.8</td>\n",
       "      <td>17.3</td>\n",
       "      <td>0.0</td>\n",
       "      <td>27.68</td>\n",
       "      <td>...</td>\n",
       "      <td>0.113</td>\n",
       "      <td>0.099</td>\n",
       "      <td>0.104</td>\n",
       "      <td>0.117</td>\n",
       "      <td>0.154</td>\n",
       "      <td>22.8</td>\n",
       "      <td>23.0</td>\n",
       "      <td>22.4</td>\n",
       "      <td>22.0</td>\n",
       "      <td>21.3</td>\n",
       "    </tr>\n",
       "    <tr>\n",
       "      <th>2017-07-31</th>\n",
       "      <td>64756</td>\n",
       "      <td>2.422</td>\n",
       "      <td>-73.74</td>\n",
       "      <td>41.79</td>\n",
       "      <td>29.4</td>\n",
       "      <td>10.1</td>\n",
       "      <td>19.7</td>\n",
       "      <td>20.1</td>\n",
       "      <td>0.0</td>\n",
       "      <td>25.49</td>\n",
       "      <td>...</td>\n",
       "      <td>0.101</td>\n",
       "      <td>0.090</td>\n",
       "      <td>0.099</td>\n",
       "      <td>0.116</td>\n",
       "      <td>0.153</td>\n",
       "      <td>23.8</td>\n",
       "      <td>23.8</td>\n",
       "      <td>22.7</td>\n",
       "      <td>21.9</td>\n",
       "      <td>21.2</td>\n",
       "    </tr>\n",
       "  </tbody>\n",
       "</table>\n",
       "<p>31 rows × 27 columns</p>\n",
       "</div>"
      ],
      "text/plain": [
       "            WBANNO  CRX_VN  LONGITUDE  LATITUDE  T_DAILY_MAX  T_DAILY_MIN  \\\n",
       "LST_DATE                                                                    \n",
       "2017-07-01   64756   2.422     -73.74     41.79         28.0         19.7   \n",
       "2017-07-02   64756   2.422     -73.74     41.79         29.8         18.4   \n",
       "2017-07-03   64756   2.422     -73.74     41.79         28.3         15.0   \n",
       "2017-07-04   64756   2.422     -73.74     41.79         26.8         12.6   \n",
       "2017-07-05   64756   2.422     -73.74     41.79         28.0         11.9   \n",
       "2017-07-06   64756   2.422     -73.74     41.79         25.7         14.3   \n",
       "2017-07-07   64756   2.422     -73.74     41.79         25.8         16.8   \n",
       "2017-07-08   64756   2.422     -73.74     41.79         29.0         15.3   \n",
       "2017-07-09   64756   2.422     -73.74     41.79         26.3         10.9   \n",
       "2017-07-10   64756   2.422     -73.74     41.79         27.6         11.8   \n",
       "2017-07-11   64756   2.422     -73.74     41.79         27.4         19.2   \n",
       "2017-07-12   64756   2.422     -73.74     41.79         29.4         18.5   \n",
       "2017-07-13   64756   2.422     -73.74     41.79         29.5         18.3   \n",
       "2017-07-14   64756   2.422     -73.74     41.79         18.5         15.9   \n",
       "2017-07-15   64756   2.422     -73.74     41.79         26.6         16.5   \n",
       "2017-07-16   64756   2.422     -73.74     41.79         27.9         13.3   \n",
       "2017-07-17   64756   2.422     -73.74     41.79         29.2         16.1   \n",
       "2017-07-18   64756   2.422     -73.74     41.79         30.3         19.3   \n",
       "2017-07-19   64756   2.422     -73.74     41.79         31.2         19.1   \n",
       "2017-07-20   64756   2.422     -73.74     41.79         31.8         16.6   \n",
       "2017-07-21   64756   2.422     -73.74     41.79         30.6         16.6   \n",
       "2017-07-22   64756   2.422     -73.74     41.79         27.7         15.6   \n",
       "2017-07-23   64756   2.422     -73.74     41.79         26.4         18.5   \n",
       "2017-07-24   64756   2.422     -73.74     41.79         19.4         14.8   \n",
       "2017-07-25   64756   2.422     -73.74     41.79         18.6         13.7   \n",
       "2017-07-26   64756   2.422     -73.74     41.79         24.7         11.2   \n",
       "2017-07-27   64756   2.422     -73.74     41.79         24.2         15.2   \n",
       "2017-07-28   64756   2.422     -73.74     41.79         26.5         16.9   \n",
       "2017-07-29   64756   2.422     -73.74     41.79         24.2         10.4   \n",
       "2017-07-30   64756   2.422     -73.74     41.79         25.5          8.2   \n",
       "2017-07-31   64756   2.422     -73.74     41.79         29.4         10.1   \n",
       "\n",
       "            T_DAILY_MEAN  T_DAILY_AVG  P_DAILY_CALC  SOLARAD_DAILY  ...  \\\n",
       "LST_DATE                                                            ...   \n",
       "2017-07-01          23.9         23.8           0.2          19.28  ...   \n",
       "2017-07-02          24.1         23.7           4.0          27.67  ...   \n",
       "2017-07-03          21.7         21.4           0.0          27.08  ...   \n",
       "2017-07-04          19.7         20.0           0.0          29.45  ...   \n",
       "2017-07-05          20.0         20.7           0.0          26.90  ...   \n",
       "2017-07-06          20.0         20.3           0.0          19.03  ...   \n",
       "2017-07-07          21.3         20.0          11.5          13.88  ...   \n",
       "2017-07-08          22.1         21.5           0.0          21.92  ...   \n",
       "2017-07-09          18.6         19.4           0.0          29.72  ...   \n",
       "2017-07-10          19.7         21.3           0.0          23.67  ...   \n",
       "2017-07-11          23.3         22.6           8.5          17.79  ...   \n",
       "2017-07-12          23.9         23.1           1.9          16.27  ...   \n",
       "2017-07-13          23.9         23.4          23.3          13.61  ...   \n",
       "2017-07-14          17.2         17.5           4.1           5.36  ...   \n",
       "2017-07-15          21.5         21.0           0.8          21.13  ...   \n",
       "2017-07-16          20.6         21.0           0.0          27.03  ...   \n",
       "2017-07-17          22.6         22.9           0.0          20.47  ...   \n",
       "2017-07-18          24.8         24.7           0.0          24.99  ...   \n",
       "2017-07-19          25.1         25.0           0.0          27.69  ...   \n",
       "2017-07-20          24.2         23.4           0.7          21.53  ...   \n",
       "2017-07-21          23.6         23.6           0.0          25.55  ...   \n",
       "2017-07-22          21.7         21.2           0.5          16.04  ...   \n",
       "2017-07-23          22.5         22.2           0.0          19.03  ...   \n",
       "2017-07-24          17.1         16.7          29.2           9.10  ...   \n",
       "2017-07-25          16.2         16.2           0.0           7.35  ...   \n",
       "2017-07-26          18.0         18.3           0.0          22.22  ...   \n",
       "2017-07-27          19.7         19.5           0.0           8.28  ...   \n",
       "2017-07-28          21.7         20.9           0.0          21.06  ...   \n",
       "2017-07-29          17.3         18.1           0.0          21.28  ...   \n",
       "2017-07-30          16.8         17.3           0.0          27.68  ...   \n",
       "2017-07-31          19.7         20.1           0.0          25.49  ...   \n",
       "\n",
       "           SOIL_MOISTURE_5_DAILY  SOIL_MOISTURE_10_DAILY  \\\n",
       "LST_DATE                                                   \n",
       "2017-07-01                 0.157                   0.136   \n",
       "2017-07-02                 0.146                   0.135   \n",
       "2017-07-03                 0.141                   0.132   \n",
       "2017-07-04                 0.131                   0.126   \n",
       "2017-07-05                 0.116                   0.114   \n",
       "2017-07-06                 0.105                   0.104   \n",
       "2017-07-07                 0.114                   0.100   \n",
       "2017-07-08                 0.130                   0.106   \n",
       "2017-07-09                 0.119                   0.103   \n",
       "2017-07-10                 0.105                   0.096   \n",
       "2017-07-11                 0.106                   0.093   \n",
       "2017-07-12                 0.108                   0.094   \n",
       "2017-07-13                 0.134                   0.110   \n",
       "2017-07-14                 0.194                   0.151   \n",
       "2017-07-15                 0.190                   0.163   \n",
       "2017-07-16                 0.171                   0.154   \n",
       "2017-07-17                 0.155                   0.143   \n",
       "2017-07-18                 0.142                   0.132   \n",
       "2017-07-19                 0.126                   0.118   \n",
       "2017-07-20                 0.111                   0.103   \n",
       "2017-07-21                 0.100                   0.093   \n",
       "2017-07-22                 0.092                   0.086   \n",
       "2017-07-23                 0.087                   0.082   \n",
       "2017-07-24                 0.145                   0.118   \n",
       "2017-07-25                 0.167                   0.133   \n",
       "2017-07-26                 0.155                   0.128   \n",
       "2017-07-27                 0.144                   0.122   \n",
       "2017-07-28                 0.137                   0.117   \n",
       "2017-07-29                 0.126                   0.108   \n",
       "2017-07-30                 0.113                   0.099   \n",
       "2017-07-31                 0.101                   0.090   \n",
       "\n",
       "            SOIL_MOISTURE_20_DAILY  SOIL_MOISTURE_50_DAILY  \\\n",
       "LST_DATE                                                     \n",
       "2017-07-01                   0.144                   0.129   \n",
       "2017-07-02                   0.143                   0.129   \n",
       "2017-07-03                   0.139                   0.128   \n",
       "2017-07-04                   0.136                   0.126   \n",
       "2017-07-05                   0.131                   0.125   \n",
       "2017-07-06                   0.126                   0.124   \n",
       "2017-07-07                   0.123                   0.123   \n",
       "2017-07-08                   0.122                   0.123   \n",
       "2017-07-09                   0.119                   0.121   \n",
       "2017-07-10                   0.113                   0.120   \n",
       "2017-07-11                   0.110                   0.120   \n",
       "2017-07-12                   0.108                   0.118   \n",
       "2017-07-13                   0.108                   0.118   \n",
       "2017-07-14                   0.114                   0.120   \n",
       "2017-07-15                   0.119                   0.122   \n",
       "2017-07-16                   0.123                   0.123   \n",
       "2017-07-17                   0.124                   0.122   \n",
       "2017-07-18                   0.122                   0.122   \n",
       "2017-07-19                   0.118                   0.122   \n",
       "2017-07-20                   0.114                   0.121   \n",
       "2017-07-21                   0.108                   0.120   \n",
       "2017-07-22                   0.104                   0.119   \n",
       "2017-07-23                   0.100                   0.118   \n",
       "2017-07-24                   0.102                   0.117   \n",
       "2017-07-25                   0.107                   0.116   \n",
       "2017-07-26                   0.108                   0.118   \n",
       "2017-07-27                   0.109                   0.118   \n",
       "2017-07-28                   0.110                   0.119   \n",
       "2017-07-29                   0.108                   0.118   \n",
       "2017-07-30                   0.104                   0.117   \n",
       "2017-07-31                   0.099                   0.116   \n",
       "\n",
       "            SOIL_MOISTURE_100_DAILY  SOIL_TEMP_5_DAILY  SOIL_TEMP_10_DAILY  \\\n",
       "LST_DATE                                                                     \n",
       "2017-07-01                    0.163               25.7                25.4   \n",
       "2017-07-02                    0.162               26.8                26.4   \n",
       "2017-07-03                    0.162               26.4                26.3   \n",
       "2017-07-04                    0.161               25.9                25.8   \n",
       "2017-07-05                    0.161               25.3                25.3   \n",
       "2017-07-06                    0.160               24.7                24.7   \n",
       "2017-07-07                    0.160               24.2                24.2   \n",
       "2017-07-08                    0.159               25.5                25.3   \n",
       "2017-07-09                    0.158               24.8                24.8   \n",
       "2017-07-10                    0.158               24.7                24.7   \n",
       "2017-07-11                    0.157               25.6                25.4   \n",
       "2017-07-12                    0.157               25.8                25.6   \n",
       "2017-07-13                    0.156               25.7                25.7   \n",
       "2017-07-14                    0.155               23.0                23.3   \n",
       "2017-07-15                    0.155               24.6                24.4   \n",
       "2017-07-16                    0.155               25.4                25.3   \n",
       "2017-07-17                    0.156               25.7                25.6   \n",
       "2017-07-18                    0.156               27.0                26.7   \n",
       "2017-07-19                    0.156               27.6                27.4   \n",
       "2017-07-20                    0.156               27.0                27.0   \n",
       "2017-07-21                    0.155               27.1                27.0   \n",
       "2017-07-22                    0.156               25.9                26.1   \n",
       "2017-07-23                    0.155               26.0                26.0   \n",
       "2017-07-24                    0.154               23.1                23.6   \n",
       "2017-07-25                    0.153               21.9                22.2   \n",
       "2017-07-26                    0.152               22.9                23.0   \n",
       "2017-07-27                    0.154               22.5                22.7   \n",
       "2017-07-28                    0.154               24.1                24.1   \n",
       "2017-07-29                    0.154               23.3                23.6   \n",
       "2017-07-30                    0.154               22.8                23.0   \n",
       "2017-07-31                    0.153               23.8                23.8   \n",
       "\n",
       "            SOIL_TEMP_20_DAILY  SOIL_TEMP_50_DAILY  SOIL_TEMP_100_DAILY  \n",
       "LST_DATE                                                                 \n",
       "2017-07-01                23.7                21.9                 19.9  \n",
       "2017-07-02                24.5                22.3                 20.1  \n",
       "2017-07-03                24.8                22.8                 20.3  \n",
       "2017-07-04                24.6                22.9                 20.6  \n",
       "2017-07-05                24.2                22.8                 20.7  \n",
       "2017-07-06                23.9                22.7                 20.9  \n",
       "2017-07-07                23.4                22.4                 20.8  \n",
       "2017-07-08                23.9                22.4                 20.8  \n",
       "2017-07-09                23.8                22.5                 20.8  \n",
       "2017-07-10                23.6                22.5                 20.9  \n",
       "2017-07-11                24.1                22.6                 20.9  \n",
       "2017-07-12                24.2                22.8                 21.0  \n",
       "2017-07-13                24.4                23.0                 21.0  \n",
       "2017-07-14                23.4                22.9                 21.2  \n",
       "2017-07-15                23.2                22.2                 21.2  \n",
       "2017-07-16                23.9                22.6                 21.1  \n",
       "2017-07-17                24.4                22.9                 21.2  \n",
       "2017-07-18                24.9                23.2                 21.3  \n",
       "2017-07-19                25.6                23.7                 21.5  \n",
       "2017-07-20                25.6                24.0                 21.7  \n",
       "2017-07-21                25.5                24.0                 21.9  \n",
       "2017-07-22                25.3                24.1                 22.0  \n",
       "2017-07-23                24.9                23.8                 22.1  \n",
       "2017-07-24                23.9                23.5                 22.1  \n",
       "2017-07-25                22.4                22.5                 21.9  \n",
       "2017-07-26                22.3                22.0                 21.7  \n",
       "2017-07-27                22.4                22.0                 21.4  \n",
       "2017-07-28                22.8                22.0                 21.3  \n",
       "2017-07-29                23.0                22.2                 21.3  \n",
       "2017-07-30                22.4                22.0                 21.3  \n",
       "2017-07-31                22.7                21.9                 21.2  \n",
       "\n",
       "[31 rows x 27 columns]"
      ]
     },
     "execution_count": 29,
     "metadata": {},
     "output_type": "execute_result"
    }
   ],
   "source": [
    "df.loc['2017-07-01':'2017-07-31']"
   ]
  },
  {
   "cell_type": "markdown",
   "metadata": {},
   "source": [
    "### Quick Statistics"
   ]
  },
  {
   "cell_type": "code",
   "execution_count": 30,
   "metadata": {},
   "outputs": [
    {
     "data": {
      "text/html": [
       "<div>\n",
       "<style scoped>\n",
       "    .dataframe tbody tr th:only-of-type {\n",
       "        vertical-align: middle;\n",
       "    }\n",
       "\n",
       "    .dataframe tbody tr th {\n",
       "        vertical-align: top;\n",
       "    }\n",
       "\n",
       "    .dataframe thead th {\n",
       "        text-align: right;\n",
       "    }\n",
       "</style>\n",
       "<table border=\"1\" class=\"dataframe\">\n",
       "  <thead>\n",
       "    <tr style=\"text-align: right;\">\n",
       "      <th></th>\n",
       "      <th>WBANNO</th>\n",
       "      <th>CRX_VN</th>\n",
       "      <th>LONGITUDE</th>\n",
       "      <th>LATITUDE</th>\n",
       "      <th>T_DAILY_MAX</th>\n",
       "      <th>T_DAILY_MIN</th>\n",
       "      <th>T_DAILY_MEAN</th>\n",
       "      <th>T_DAILY_AVG</th>\n",
       "      <th>P_DAILY_CALC</th>\n",
       "      <th>SOLARAD_DAILY</th>\n",
       "      <th>...</th>\n",
       "      <th>SOIL_MOISTURE_5_DAILY</th>\n",
       "      <th>SOIL_MOISTURE_10_DAILY</th>\n",
       "      <th>SOIL_MOISTURE_20_DAILY</th>\n",
       "      <th>SOIL_MOISTURE_50_DAILY</th>\n",
       "      <th>SOIL_MOISTURE_100_DAILY</th>\n",
       "      <th>SOIL_TEMP_5_DAILY</th>\n",
       "      <th>SOIL_TEMP_10_DAILY</th>\n",
       "      <th>SOIL_TEMP_20_DAILY</th>\n",
       "      <th>SOIL_TEMP_50_DAILY</th>\n",
       "      <th>SOIL_TEMP_100_DAILY</th>\n",
       "    </tr>\n",
       "  </thead>\n",
       "  <tbody>\n",
       "    <tr>\n",
       "      <th>count</th>\n",
       "      <td>365.0</td>\n",
       "      <td>365.000000</td>\n",
       "      <td>3.650000e+02</td>\n",
       "      <td>3.650000e+02</td>\n",
       "      <td>364.000000</td>\n",
       "      <td>364.000000</td>\n",
       "      <td>364.000000</td>\n",
       "      <td>364.000000</td>\n",
       "      <td>364.000000</td>\n",
       "      <td>364.000000</td>\n",
       "      <td>...</td>\n",
       "      <td>317.000000</td>\n",
       "      <td>317.000000</td>\n",
       "      <td>336.000000</td>\n",
       "      <td>364.000000</td>\n",
       "      <td>359.000000</td>\n",
       "      <td>364.000000</td>\n",
       "      <td>364.000000</td>\n",
       "      <td>364.000000</td>\n",
       "      <td>364.000000</td>\n",
       "      <td>364.000000</td>\n",
       "    </tr>\n",
       "    <tr>\n",
       "      <th>mean</th>\n",
       "      <td>64756.0</td>\n",
       "      <td>2.470767</td>\n",
       "      <td>-7.374000e+01</td>\n",
       "      <td>4.179000e+01</td>\n",
       "      <td>15.720055</td>\n",
       "      <td>4.037912</td>\n",
       "      <td>9.876374</td>\n",
       "      <td>9.990110</td>\n",
       "      <td>2.797802</td>\n",
       "      <td>13.068187</td>\n",
       "      <td>...</td>\n",
       "      <td>0.189498</td>\n",
       "      <td>0.183991</td>\n",
       "      <td>0.165470</td>\n",
       "      <td>0.140192</td>\n",
       "      <td>0.160630</td>\n",
       "      <td>12.312637</td>\n",
       "      <td>12.320604</td>\n",
       "      <td>12.060165</td>\n",
       "      <td>11.978022</td>\n",
       "      <td>11.915659</td>\n",
       "    </tr>\n",
       "    <tr>\n",
       "      <th>std</th>\n",
       "      <td>0.0</td>\n",
       "      <td>0.085997</td>\n",
       "      <td>5.265234e-13</td>\n",
       "      <td>3.842198e-13</td>\n",
       "      <td>10.502087</td>\n",
       "      <td>9.460676</td>\n",
       "      <td>9.727451</td>\n",
       "      <td>9.619168</td>\n",
       "      <td>7.238628</td>\n",
       "      <td>7.953074</td>\n",
       "      <td>...</td>\n",
       "      <td>0.052031</td>\n",
       "      <td>0.054113</td>\n",
       "      <td>0.043989</td>\n",
       "      <td>0.020495</td>\n",
       "      <td>0.016011</td>\n",
       "      <td>9.390034</td>\n",
       "      <td>9.338176</td>\n",
       "      <td>8.767752</td>\n",
       "      <td>8.078346</td>\n",
       "      <td>7.187317</td>\n",
       "    </tr>\n",
       "    <tr>\n",
       "      <th>min</th>\n",
       "      <td>64756.0</td>\n",
       "      <td>2.422000</td>\n",
       "      <td>-7.374000e+01</td>\n",
       "      <td>4.179000e+01</td>\n",
       "      <td>-12.300000</td>\n",
       "      <td>-21.800000</td>\n",
       "      <td>-17.000000</td>\n",
       "      <td>-16.700000</td>\n",
       "      <td>0.000000</td>\n",
       "      <td>0.100000</td>\n",
       "      <td>...</td>\n",
       "      <td>0.075000</td>\n",
       "      <td>0.078000</td>\n",
       "      <td>0.087000</td>\n",
       "      <td>0.101000</td>\n",
       "      <td>0.117000</td>\n",
       "      <td>-0.700000</td>\n",
       "      <td>-0.400000</td>\n",
       "      <td>0.200000</td>\n",
       "      <td>0.900000</td>\n",
       "      <td>1.900000</td>\n",
       "    </tr>\n",
       "    <tr>\n",
       "      <th>25%</th>\n",
       "      <td>64756.0</td>\n",
       "      <td>2.422000</td>\n",
       "      <td>-7.374000e+01</td>\n",
       "      <td>4.179000e+01</td>\n",
       "      <td>6.900000</td>\n",
       "      <td>-2.775000</td>\n",
       "      <td>2.100000</td>\n",
       "      <td>2.275000</td>\n",
       "      <td>0.000000</td>\n",
       "      <td>6.225000</td>\n",
       "      <td>...</td>\n",
       "      <td>0.152000</td>\n",
       "      <td>0.139000</td>\n",
       "      <td>0.118750</td>\n",
       "      <td>0.118000</td>\n",
       "      <td>0.154000</td>\n",
       "      <td>2.225000</td>\n",
       "      <td>2.000000</td>\n",
       "      <td>2.475000</td>\n",
       "      <td>3.300000</td>\n",
       "      <td>4.100000</td>\n",
       "    </tr>\n",
       "    <tr>\n",
       "      <th>50%</th>\n",
       "      <td>64756.0</td>\n",
       "      <td>2.422000</td>\n",
       "      <td>-7.374000e+01</td>\n",
       "      <td>4.179000e+01</td>\n",
       "      <td>17.450000</td>\n",
       "      <td>4.350000</td>\n",
       "      <td>10.850000</td>\n",
       "      <td>11.050000</td>\n",
       "      <td>0.000000</td>\n",
       "      <td>12.865000</td>\n",
       "      <td>...</td>\n",
       "      <td>0.192000</td>\n",
       "      <td>0.198000</td>\n",
       "      <td>0.183000</td>\n",
       "      <td>0.147500</td>\n",
       "      <td>0.165000</td>\n",
       "      <td>13.300000</td>\n",
       "      <td>13.350000</td>\n",
       "      <td>13.100000</td>\n",
       "      <td>12.850000</td>\n",
       "      <td>11.600000</td>\n",
       "    </tr>\n",
       "    <tr>\n",
       "      <th>75%</th>\n",
       "      <td>64756.0</td>\n",
       "      <td>2.422000</td>\n",
       "      <td>-7.374000e+01</td>\n",
       "      <td>4.179000e+01</td>\n",
       "      <td>24.850000</td>\n",
       "      <td>11.900000</td>\n",
       "      <td>18.150000</td>\n",
       "      <td>18.450000</td>\n",
       "      <td>1.400000</td>\n",
       "      <td>19.740000</td>\n",
       "      <td>...</td>\n",
       "      <td>0.234000</td>\n",
       "      <td>0.227000</td>\n",
       "      <td>0.203000</td>\n",
       "      <td>0.157000</td>\n",
       "      <td>0.173000</td>\n",
       "      <td>21.025000</td>\n",
       "      <td>21.125000</td>\n",
       "      <td>20.400000</td>\n",
       "      <td>19.800000</td>\n",
       "      <td>19.325000</td>\n",
       "    </tr>\n",
       "    <tr>\n",
       "      <th>max</th>\n",
       "      <td>64756.0</td>\n",
       "      <td>2.622000</td>\n",
       "      <td>-7.374000e+01</td>\n",
       "      <td>4.179000e+01</td>\n",
       "      <td>33.400000</td>\n",
       "      <td>20.700000</td>\n",
       "      <td>25.700000</td>\n",
       "      <td>26.700000</td>\n",
       "      <td>65.700000</td>\n",
       "      <td>29.910000</td>\n",
       "      <td>...</td>\n",
       "      <td>0.296000</td>\n",
       "      <td>0.321000</td>\n",
       "      <td>0.235000</td>\n",
       "      <td>0.182000</td>\n",
       "      <td>0.192000</td>\n",
       "      <td>27.600000</td>\n",
       "      <td>27.400000</td>\n",
       "      <td>25.600000</td>\n",
       "      <td>24.100000</td>\n",
       "      <td>22.100000</td>\n",
       "    </tr>\n",
       "  </tbody>\n",
       "</table>\n",
       "<p>8 rows × 26 columns</p>\n",
       "</div>"
      ],
      "text/plain": [
       "        WBANNO      CRX_VN     LONGITUDE      LATITUDE  T_DAILY_MAX  \\\n",
       "count    365.0  365.000000  3.650000e+02  3.650000e+02   364.000000   \n",
       "mean   64756.0    2.470767 -7.374000e+01  4.179000e+01    15.720055   \n",
       "std        0.0    0.085997  5.265234e-13  3.842198e-13    10.502087   \n",
       "min    64756.0    2.422000 -7.374000e+01  4.179000e+01   -12.300000   \n",
       "25%    64756.0    2.422000 -7.374000e+01  4.179000e+01     6.900000   \n",
       "50%    64756.0    2.422000 -7.374000e+01  4.179000e+01    17.450000   \n",
       "75%    64756.0    2.422000 -7.374000e+01  4.179000e+01    24.850000   \n",
       "max    64756.0    2.622000 -7.374000e+01  4.179000e+01    33.400000   \n",
       "\n",
       "       T_DAILY_MIN  T_DAILY_MEAN  T_DAILY_AVG  P_DAILY_CALC  SOLARAD_DAILY  \\\n",
       "count   364.000000    364.000000   364.000000    364.000000     364.000000   \n",
       "mean      4.037912      9.876374     9.990110      2.797802      13.068187   \n",
       "std       9.460676      9.727451     9.619168      7.238628       7.953074   \n",
       "min     -21.800000    -17.000000   -16.700000      0.000000       0.100000   \n",
       "25%      -2.775000      2.100000     2.275000      0.000000       6.225000   \n",
       "50%       4.350000     10.850000    11.050000      0.000000      12.865000   \n",
       "75%      11.900000     18.150000    18.450000      1.400000      19.740000   \n",
       "max      20.700000     25.700000    26.700000     65.700000      29.910000   \n",
       "\n",
       "       ...  SOIL_MOISTURE_5_DAILY  SOIL_MOISTURE_10_DAILY  \\\n",
       "count  ...             317.000000              317.000000   \n",
       "mean   ...               0.189498                0.183991   \n",
       "std    ...               0.052031                0.054113   \n",
       "min    ...               0.075000                0.078000   \n",
       "25%    ...               0.152000                0.139000   \n",
       "50%    ...               0.192000                0.198000   \n",
       "75%    ...               0.234000                0.227000   \n",
       "max    ...               0.296000                0.321000   \n",
       "\n",
       "       SOIL_MOISTURE_20_DAILY  SOIL_MOISTURE_50_DAILY  \\\n",
       "count              336.000000              364.000000   \n",
       "mean                 0.165470                0.140192   \n",
       "std                  0.043989                0.020495   \n",
       "min                  0.087000                0.101000   \n",
       "25%                  0.118750                0.118000   \n",
       "50%                  0.183000                0.147500   \n",
       "75%                  0.203000                0.157000   \n",
       "max                  0.235000                0.182000   \n",
       "\n",
       "       SOIL_MOISTURE_100_DAILY  SOIL_TEMP_5_DAILY  SOIL_TEMP_10_DAILY  \\\n",
       "count               359.000000         364.000000          364.000000   \n",
       "mean                  0.160630          12.312637           12.320604   \n",
       "std                   0.016011           9.390034            9.338176   \n",
       "min                   0.117000          -0.700000           -0.400000   \n",
       "25%                   0.154000           2.225000            2.000000   \n",
       "50%                   0.165000          13.300000           13.350000   \n",
       "75%                   0.173000          21.025000           21.125000   \n",
       "max                   0.192000          27.600000           27.400000   \n",
       "\n",
       "       SOIL_TEMP_20_DAILY  SOIL_TEMP_50_DAILY  SOIL_TEMP_100_DAILY  \n",
       "count          364.000000          364.000000           364.000000  \n",
       "mean            12.060165           11.978022            11.915659  \n",
       "std              8.767752            8.078346             7.187317  \n",
       "min              0.200000            0.900000             1.900000  \n",
       "25%              2.475000            3.300000             4.100000  \n",
       "50%             13.100000           12.850000            11.600000  \n",
       "75%             20.400000           19.800000            19.325000  \n",
       "max             25.600000           24.100000            22.100000  \n",
       "\n",
       "[8 rows x 26 columns]"
      ]
     },
     "execution_count": 30,
     "metadata": {},
     "output_type": "execute_result"
    }
   ],
   "source": [
    "df.describe()"
   ]
  },
  {
   "cell_type": "markdown",
   "metadata": {},
   "source": [
    "### Plotting Values\n",
    "\n",
    "We can now quickly make plots of the data"
   ]
  },
  {
   "cell_type": "code",
   "execution_count": 32,
   "metadata": {},
   "outputs": [
    {
     "data": {
      "image/png": "[encoded data removed]",
      "text/plain": [
       "<Figure size 1400x1400 with 4 Axes>"
      ]
     },
     "metadata": {},
     "output_type": "display_data"
    }
   ],
   "source": [
    "fig, ax = plt.subplots(ncols=2, nrows=2, figsize=(14,14))\n",
    "\n",
    "df.iloc[:, 4:8].boxplot(ax=ax[0,0])\n",
    "df.iloc[:, 10:14].boxplot(ax=ax[0,1])\n",
    "df.iloc[:, 14:17].boxplot(ax=ax[1,0])\n",
    "df.iloc[:, 18:22].boxplot(ax=ax[1,1])\n",
    "\n",
    "ax[1, 1].set_xticklabels(ax[1, 1].get_xticklabels(), rotation=90);\n",
    "\n",
    "# more info on boxplot - https://matplotlib.org/stable/api/_as_gen/matplotlib.pyplot.boxplot.html"
   ]
  },
  {
   "cell_type": "markdown",
   "metadata": {},
   "source": [
    "Pandas is very \"time aware\":"
   ]
  },
  {
   "cell_type": "code",
   "execution_count": 33,
   "metadata": {},
   "outputs": [
    {
     "data": {
      "text/plain": [
       "<Axes: xlabel='LST_DATE'>"
      ]
     },
     "execution_count": 33,
     "metadata": {},
     "output_type": "execute_result"
    },
    {
     "data": {
      "image/png": "[encoded data removed]",
      "text/plain": [
       "<Figure size 640x480 with 1 Axes>"
      ]
     },
     "metadata": {},
     "output_type": "display_data"
    }
   ],
   "source": [
    "df.T_DAILY_MEAN.plot()"
   ]
  },
  {
   "cell_type": "markdown",
   "metadata": {},
   "source": [
    "Note: we could also manually create an axis and plot into it."
   ]
  },
  {
   "cell_type": "code",
   "execution_count": 34,
   "metadata": {},
   "outputs": [
    {
     "data": {
      "text/plain": [
       "Text(0.5, 1.0, 'Pandas Made This!')"
      ]
     },
     "execution_count": 34,
     "metadata": {},
     "output_type": "execute_result"
    },
    {
     "data": {
      "image/png": "[encoded data removed]",
      "text/plain": [
       "<Figure size 640x480 with 1 Axes>"
      ]
     },
     "metadata": {},
     "output_type": "display_data"
    }
   ],
   "source": [
    "fig, ax = plt.subplots()\n",
    "df.T_DAILY_MEAN.plot(ax=ax)\n",
    "ax.set_title('Pandas Made This!')"
   ]
  },
  {
   "cell_type": "code",
   "execution_count": 35,
   "metadata": {},
   "outputs": [
    {
     "data": {
      "text/plain": [
       "<Axes: xlabel='LST_DATE'>"
      ]
     },
     "execution_count": 35,
     "metadata": {},
     "output_type": "execute_result"
    },
    {
     "data": {
      "image/png": "[encoded data removed]",
      "text/plain": [
       "<Figure size 640x480 with 1 Axes>"
      ]
     },
     "metadata": {},
     "output_type": "display_data"
    }
   ],
   "source": [
    "df[['T_DAILY_MIN', 'T_DAILY_MEAN', 'T_DAILY_MAX']].plot()"
   ]
  },
  {
   "cell_type": "markdown",
   "metadata": {},
   "source": [
    "### Resampling\n",
    "\n",
    "Since pandas understands time, we can use it to do resampling."
   ]
  },
  {
   "cell_type": "code",
   "execution_count": 55,
   "metadata": {},
   "outputs": [
    {
     "data": {
      "text/plain": [
       "<pandas.core.resample.DatetimeIndexResampler object at 0x7f1f14a1d5e0>"
      ]
     },
     "execution_count": 55,
     "metadata": {},
     "output_type": "execute_result"
    }
   ],
   "source": [
    "# monthly reampler object\n",
    "rs_obj = df.resample('MS') # to resample the data to the start of each month\n",
    "rs_obj"
   ]
  },
  {
   "cell_type": "code",
   "execution_count": 56,
   "metadata": {},
   "outputs": [
    {
     "data": {
      "text/html": [
       "<div>\n",
       "<style scoped>\n",
       "    .dataframe tbody tr th:only-of-type {\n",
       "        vertical-align: middle;\n",
       "    }\n",
       "\n",
       "    .dataframe tbody tr th {\n",
       "        vertical-align: top;\n",
       "    }\n",
       "\n",
       "    .dataframe thead th {\n",
       "        text-align: right;\n",
       "    }\n",
       "</style>\n",
       "<table border=\"1\" class=\"dataframe\">\n",
       "  <thead>\n",
       "    <tr style=\"text-align: right;\">\n",
       "      <th></th>\n",
       "      <th>WBANNO</th>\n",
       "      <th>CRX_VN</th>\n",
       "      <th>LONGITUDE</th>\n",
       "      <th>LATITUDE</th>\n",
       "      <th>T_DAILY_MAX</th>\n",
       "      <th>T_DAILY_MIN</th>\n",
       "      <th>T_DAILY_MEAN</th>\n",
       "      <th>T_DAILY_AVG</th>\n",
       "      <th>P_DAILY_CALC</th>\n",
       "      <th>SOLARAD_DAILY</th>\n",
       "      <th>...</th>\n",
       "      <th>SOIL_MOISTURE_5_DAILY</th>\n",
       "      <th>SOIL_MOISTURE_10_DAILY</th>\n",
       "      <th>SOIL_MOISTURE_20_DAILY</th>\n",
       "      <th>SOIL_MOISTURE_50_DAILY</th>\n",
       "      <th>SOIL_MOISTURE_100_DAILY</th>\n",
       "      <th>SOIL_TEMP_5_DAILY</th>\n",
       "      <th>SOIL_TEMP_10_DAILY</th>\n",
       "      <th>SOIL_TEMP_20_DAILY</th>\n",
       "      <th>SOIL_TEMP_50_DAILY</th>\n",
       "      <th>SOIL_TEMP_100_DAILY</th>\n",
       "    </tr>\n",
       "    <tr>\n",
       "      <th>LST_DATE</th>\n",
       "      <th></th>\n",
       "      <th></th>\n",
       "      <th></th>\n",
       "      <th></th>\n",
       "      <th></th>\n",
       "      <th></th>\n",
       "      <th></th>\n",
       "      <th></th>\n",
       "      <th></th>\n",
       "      <th></th>\n",
       "      <th></th>\n",
       "      <th></th>\n",
       "      <th></th>\n",
       "      <th></th>\n",
       "      <th></th>\n",
       "      <th></th>\n",
       "      <th></th>\n",
       "      <th></th>\n",
       "      <th></th>\n",
       "      <th></th>\n",
       "      <th></th>\n",
       "    </tr>\n",
       "  </thead>\n",
       "  <tbody>\n",
       "    <tr>\n",
       "      <th>2017-01-01</th>\n",
       "      <td>64756.0</td>\n",
       "      <td>2.422000</td>\n",
       "      <td>-73.74</td>\n",
       "      <td>41.79</td>\n",
       "      <td>3.945161</td>\n",
       "      <td>-3.993548</td>\n",
       "      <td>-0.025806</td>\n",
       "      <td>0.038710</td>\n",
       "      <td>3.090323</td>\n",
       "      <td>4.690000</td>\n",
       "      <td>...</td>\n",
       "      <td>0.236900</td>\n",
       "      <td>0.248300</td>\n",
       "      <td>0.204550</td>\n",
       "      <td>0.152806</td>\n",
       "      <td>0.175194</td>\n",
       "      <td>0.209677</td>\n",
       "      <td>0.267742</td>\n",
       "      <td>0.696774</td>\n",
       "      <td>1.438710</td>\n",
       "      <td>2.877419</td>\n",
       "    </tr>\n",
       "    <tr>\n",
       "      <th>2017-02-01</th>\n",
       "      <td>64756.0</td>\n",
       "      <td>2.422000</td>\n",
       "      <td>-73.74</td>\n",
       "      <td>41.79</td>\n",
       "      <td>7.246429</td>\n",
       "      <td>-4.360714</td>\n",
       "      <td>1.442857</td>\n",
       "      <td>1.839286</td>\n",
       "      <td>2.414286</td>\n",
       "      <td>10.364286</td>\n",
       "      <td>...</td>\n",
       "      <td>0.226333</td>\n",
       "      <td>0.243000</td>\n",
       "      <td>0.207545</td>\n",
       "      <td>0.152857</td>\n",
       "      <td>0.175786</td>\n",
       "      <td>1.125000</td>\n",
       "      <td>1.100000</td>\n",
       "      <td>1.192857</td>\n",
       "      <td>1.492857</td>\n",
       "      <td>2.367857</td>\n",
       "    </tr>\n",
       "    <tr>\n",
       "      <th>2017-03-01</th>\n",
       "      <td>64756.0</td>\n",
       "      <td>2.422000</td>\n",
       "      <td>-73.74</td>\n",
       "      <td>41.79</td>\n",
       "      <td>5.164516</td>\n",
       "      <td>-5.335484</td>\n",
       "      <td>-0.090323</td>\n",
       "      <td>0.167742</td>\n",
       "      <td>3.970968</td>\n",
       "      <td>13.113548</td>\n",
       "      <td>...</td>\n",
       "      <td>0.218033</td>\n",
       "      <td>0.229267</td>\n",
       "      <td>0.196258</td>\n",
       "      <td>0.153484</td>\n",
       "      <td>0.174548</td>\n",
       "      <td>2.122581</td>\n",
       "      <td>2.161290</td>\n",
       "      <td>2.345161</td>\n",
       "      <td>2.700000</td>\n",
       "      <td>3.387097</td>\n",
       "    </tr>\n",
       "    <tr>\n",
       "      <th>2017-04-01</th>\n",
       "      <td>64756.0</td>\n",
       "      <td>2.422000</td>\n",
       "      <td>-73.74</td>\n",
       "      <td>41.79</td>\n",
       "      <td>17.813333</td>\n",
       "      <td>5.170000</td>\n",
       "      <td>11.493333</td>\n",
       "      <td>11.540000</td>\n",
       "      <td>2.300000</td>\n",
       "      <td>14.645000</td>\n",
       "      <td>...</td>\n",
       "      <td>0.199733</td>\n",
       "      <td>0.210300</td>\n",
       "      <td>0.190667</td>\n",
       "      <td>0.151000</td>\n",
       "      <td>0.172400</td>\n",
       "      <td>11.066667</td>\n",
       "      <td>10.666667</td>\n",
       "      <td>9.636667</td>\n",
       "      <td>8.426667</td>\n",
       "      <td>6.903333</td>\n",
       "    </tr>\n",
       "    <tr>\n",
       "      <th>2017-05-01</th>\n",
       "      <td>64756.0</td>\n",
       "      <td>2.422000</td>\n",
       "      <td>-73.74</td>\n",
       "      <td>41.79</td>\n",
       "      <td>19.151613</td>\n",
       "      <td>7.338710</td>\n",
       "      <td>13.229032</td>\n",
       "      <td>13.638710</td>\n",
       "      <td>4.141935</td>\n",
       "      <td>16.519677</td>\n",
       "      <td>...</td>\n",
       "      <td>0.206613</td>\n",
       "      <td>0.210935</td>\n",
       "      <td>0.185613</td>\n",
       "      <td>0.147710</td>\n",
       "      <td>0.170000</td>\n",
       "      <td>16.454839</td>\n",
       "      <td>16.290323</td>\n",
       "      <td>15.361290</td>\n",
       "      <td>14.270968</td>\n",
       "      <td>12.696774</td>\n",
       "    </tr>\n",
       "    <tr>\n",
       "      <th>2017-06-01</th>\n",
       "      <td>64756.0</td>\n",
       "      <td>2.422000</td>\n",
       "      <td>-73.74</td>\n",
       "      <td>41.79</td>\n",
       "      <td>25.423333</td>\n",
       "      <td>12.176667</td>\n",
       "      <td>18.796667</td>\n",
       "      <td>18.986667</td>\n",
       "      <td>3.743333</td>\n",
       "      <td>21.655000</td>\n",
       "      <td>...</td>\n",
       "      <td>0.185167</td>\n",
       "      <td>0.184300</td>\n",
       "      <td>0.173167</td>\n",
       "      <td>0.142533</td>\n",
       "      <td>0.167000</td>\n",
       "      <td>22.350000</td>\n",
       "      <td>22.166667</td>\n",
       "      <td>20.880000</td>\n",
       "      <td>19.370000</td>\n",
       "      <td>17.333333</td>\n",
       "    </tr>\n",
       "    <tr>\n",
       "      <th>2017-07-01</th>\n",
       "      <td>64756.0</td>\n",
       "      <td>2.422000</td>\n",
       "      <td>-73.74</td>\n",
       "      <td>41.79</td>\n",
       "      <td>26.912903</td>\n",
       "      <td>15.183871</td>\n",
       "      <td>21.048387</td>\n",
       "      <td>20.993548</td>\n",
       "      <td>2.732258</td>\n",
       "      <td>20.566129</td>\n",
       "      <td>...</td>\n",
       "      <td>0.131226</td>\n",
       "      <td>0.115774</td>\n",
       "      <td>0.116613</td>\n",
       "      <td>0.121032</td>\n",
       "      <td>0.156677</td>\n",
       "      <td>24.993548</td>\n",
       "      <td>24.980645</td>\n",
       "      <td>23.925806</td>\n",
       "      <td>22.745161</td>\n",
       "      <td>21.164516</td>\n",
       "    </tr>\n",
       "    <tr>\n",
       "      <th>2017-08-01</th>\n",
       "      <td>64756.0</td>\n",
       "      <td>2.422000</td>\n",
       "      <td>-73.74</td>\n",
       "      <td>41.79</td>\n",
       "      <td>25.741935</td>\n",
       "      <td>12.954839</td>\n",
       "      <td>19.351613</td>\n",
       "      <td>19.477419</td>\n",
       "      <td>2.758065</td>\n",
       "      <td>18.360000</td>\n",
       "      <td>...</td>\n",
       "      <td>0.143871</td>\n",
       "      <td>0.122258</td>\n",
       "      <td>0.105452</td>\n",
       "      <td>0.115290</td>\n",
       "      <td>0.151034</td>\n",
       "      <td>23.374194</td>\n",
       "      <td>23.519355</td>\n",
       "      <td>22.848387</td>\n",
       "      <td>22.193548</td>\n",
       "      <td>21.377419</td>\n",
       "    </tr>\n",
       "    <tr>\n",
       "      <th>2017-09-01</th>\n",
       "      <td>64756.0</td>\n",
       "      <td>2.422000</td>\n",
       "      <td>-73.74</td>\n",
       "      <td>41.79</td>\n",
       "      <td>24.186667</td>\n",
       "      <td>11.300000</td>\n",
       "      <td>17.746667</td>\n",
       "      <td>17.463333</td>\n",
       "      <td>1.893333</td>\n",
       "      <td>15.154667</td>\n",
       "      <td>...</td>\n",
       "      <td>0.145167</td>\n",
       "      <td>0.139633</td>\n",
       "      <td>0.117267</td>\n",
       "      <td>0.112167</td>\n",
       "      <td>0.141926</td>\n",
       "      <td>20.256667</td>\n",
       "      <td>20.386667</td>\n",
       "      <td>19.966667</td>\n",
       "      <td>19.766667</td>\n",
       "      <td>19.530000</td>\n",
       "    </tr>\n",
       "    <tr>\n",
       "      <th>2017-10-01</th>\n",
       "      <td>64756.0</td>\n",
       "      <td>2.602645</td>\n",
       "      <td>-73.74</td>\n",
       "      <td>41.79</td>\n",
       "      <td>21.043333</td>\n",
       "      <td>7.150000</td>\n",
       "      <td>14.100000</td>\n",
       "      <td>13.976667</td>\n",
       "      <td>3.500000</td>\n",
       "      <td>10.395000</td>\n",
       "      <td>...</td>\n",
       "      <td>0.151767</td>\n",
       "      <td>0.137767</td>\n",
       "      <td>0.111900</td>\n",
       "      <td>0.108900</td>\n",
       "      <td>0.122067</td>\n",
       "      <td>16.086667</td>\n",
       "      <td>16.193333</td>\n",
       "      <td>16.370000</td>\n",
       "      <td>16.893333</td>\n",
       "      <td>17.386667</td>\n",
       "    </tr>\n",
       "    <tr>\n",
       "      <th>2017-11-01</th>\n",
       "      <td>64756.0</td>\n",
       "      <td>2.622000</td>\n",
       "      <td>-73.74</td>\n",
       "      <td>41.79</td>\n",
       "      <td>10.346667</td>\n",
       "      <td>-2.093333</td>\n",
       "      <td>4.120000</td>\n",
       "      <td>4.336667</td>\n",
       "      <td>0.826667</td>\n",
       "      <td>6.723333</td>\n",
       "      <td>...</td>\n",
       "      <td>0.241633</td>\n",
       "      <td>0.224467</td>\n",
       "      <td>0.203367</td>\n",
       "      <td>0.159500</td>\n",
       "      <td>0.155233</td>\n",
       "      <td>7.056667</td>\n",
       "      <td>7.273333</td>\n",
       "      <td>8.043333</td>\n",
       "      <td>9.633333</td>\n",
       "      <td>11.440000</td>\n",
       "    </tr>\n",
       "    <tr>\n",
       "      <th>2017-12-01</th>\n",
       "      <td>64756.0</td>\n",
       "      <td>2.622000</td>\n",
       "      <td>-73.74</td>\n",
       "      <td>41.79</td>\n",
       "      <td>1.496774</td>\n",
       "      <td>-7.412903</td>\n",
       "      <td>-2.967742</td>\n",
       "      <td>-2.838710</td>\n",
       "      <td>2.109677</td>\n",
       "      <td>4.474194</td>\n",
       "      <td>...</td>\n",
       "      <td>0.255929</td>\n",
       "      <td>0.239071</td>\n",
       "      <td>0.213258</td>\n",
       "      <td>0.165387</td>\n",
       "      <td>0.163290</td>\n",
       "      <td>2.064516</td>\n",
       "      <td>2.241935</td>\n",
       "      <td>2.874194</td>\n",
       "      <td>4.248387</td>\n",
       "      <td>6.019355</td>\n",
       "    </tr>\n",
       "  </tbody>\n",
       "</table>\n",
       "<p>12 rows × 26 columns</p>\n",
       "</div>"
      ],
      "text/plain": [
       "             WBANNO    CRX_VN  LONGITUDE  LATITUDE  T_DAILY_MAX  T_DAILY_MIN  \\\n",
       "LST_DATE                                                                       \n",
       "2017-01-01  64756.0  2.422000     -73.74     41.79     3.945161    -3.993548   \n",
       "2017-02-01  64756.0  2.422000     -73.74     41.79     7.246429    -4.360714   \n",
       "2017-03-01  64756.0  2.422000     -73.74     41.79     5.164516    -5.335484   \n",
       "2017-04-01  64756.0  2.422000     -73.74     41.79    17.813333     5.170000   \n",
       "2017-05-01  64756.0  2.422000     -73.74     41.79    19.151613     7.338710   \n",
       "2017-06-01  64756.0  2.422000     -73.74     41.79    25.423333    12.176667   \n",
       "2017-07-01  64756.0  2.422000     -73.74     41.79    26.912903    15.183871   \n",
       "2017-08-01  64756.0  2.422000     -73.74     41.79    25.741935    12.954839   \n",
       "2017-09-01  64756.0  2.422000     -73.74     41.79    24.186667    11.300000   \n",
       "2017-10-01  64756.0  2.602645     -73.74     41.79    21.043333     7.150000   \n",
       "2017-11-01  64756.0  2.622000     -73.74     41.79    10.346667    -2.093333   \n",
       "2017-12-01  64756.0  2.622000     -73.74     41.79     1.496774    -7.412903   \n",
       "\n",
       "            T_DAILY_MEAN  T_DAILY_AVG  P_DAILY_CALC  SOLARAD_DAILY  ...  \\\n",
       "LST_DATE                                                            ...   \n",
       "2017-01-01     -0.025806     0.038710      3.090323       4.690000  ...   \n",
       "2017-02-01      1.442857     1.839286      2.414286      10.364286  ...   \n",
       "2017-03-01     -0.090323     0.167742      3.970968      13.113548  ...   \n",
       "2017-04-01     11.493333    11.540000      2.300000      14.645000  ...   \n",
       "2017-05-01     13.229032    13.638710      4.141935      16.519677  ...   \n",
       "2017-06-01     18.796667    18.986667      3.743333      21.655000  ...   \n",
       "2017-07-01     21.048387    20.993548      2.732258      20.566129  ...   \n",
       "2017-08-01     19.351613    19.477419      2.758065      18.360000  ...   \n",
       "2017-09-01     17.746667    17.463333      1.893333      15.154667  ...   \n",
       "2017-10-01     14.100000    13.976667      3.500000      10.395000  ...   \n",
       "2017-11-01      4.120000     4.336667      0.826667       6.723333  ...   \n",
       "2017-12-01     -2.967742    -2.838710      2.109677       4.474194  ...   \n",
       "\n",
       "            SOIL_MOISTURE_5_DAILY  SOIL_MOISTURE_10_DAILY  \\\n",
       "LST_DATE                                                    \n",
       "2017-01-01               0.236900                0.248300   \n",
       "2017-02-01               0.226333                0.243000   \n",
       "2017-03-01               0.218033                0.229267   \n",
       "2017-04-01               0.199733                0.210300   \n",
       "2017-05-01               0.206613                0.210935   \n",
       "2017-06-01               0.185167                0.184300   \n",
       "2017-07-01               0.131226                0.115774   \n",
       "2017-08-01               0.143871                0.122258   \n",
       "2017-09-01               0.145167                0.139633   \n",
       "2017-10-01               0.151767                0.137767   \n",
       "2017-11-01               0.241633                0.224467   \n",
       "2017-12-01               0.255929                0.239071   \n",
       "\n",
       "            SOIL_MOISTURE_20_DAILY  SOIL_MOISTURE_50_DAILY  \\\n",
       "LST_DATE                                                     \n",
       "2017-01-01                0.204550                0.152806   \n",
       "2017-02-01                0.207545                0.152857   \n",
       "2017-03-01                0.196258                0.153484   \n",
       "2017-04-01                0.190667                0.151000   \n",
       "2017-05-01                0.185613                0.147710   \n",
       "2017-06-01                0.173167                0.142533   \n",
       "2017-07-01                0.116613                0.121032   \n",
       "2017-08-01                0.105452                0.115290   \n",
       "2017-09-01                0.117267                0.112167   \n",
       "2017-10-01                0.111900                0.108900   \n",
       "2017-11-01                0.203367                0.159500   \n",
       "2017-12-01                0.213258                0.165387   \n",
       "\n",
       "            SOIL_MOISTURE_100_DAILY  SOIL_TEMP_5_DAILY  SOIL_TEMP_10_DAILY  \\\n",
       "LST_DATE                                                                     \n",
       "2017-01-01                 0.175194           0.209677            0.267742   \n",
       "2017-02-01                 0.175786           1.125000            1.100000   \n",
       "2017-03-01                 0.174548           2.122581            2.161290   \n",
       "2017-04-01                 0.172400          11.066667           10.666667   \n",
       "2017-05-01                 0.170000          16.454839           16.290323   \n",
       "2017-06-01                 0.167000          22.350000           22.166667   \n",
       "2017-07-01                 0.156677          24.993548           24.980645   \n",
       "2017-08-01                 0.151034          23.374194           23.519355   \n",
       "2017-09-01                 0.141926          20.256667           20.386667   \n",
       "2017-10-01                 0.122067          16.086667           16.193333   \n",
       "2017-11-01                 0.155233           7.056667            7.273333   \n",
       "2017-12-01                 0.163290           2.064516            2.241935   \n",
       "\n",
       "            SOIL_TEMP_20_DAILY  SOIL_TEMP_50_DAILY  SOIL_TEMP_100_DAILY  \n",
       "LST_DATE                                                                 \n",
       "2017-01-01            0.696774            1.438710             2.877419  \n",
       "2017-02-01            1.192857            1.492857             2.367857  \n",
       "2017-03-01            2.345161            2.700000             3.387097  \n",
       "2017-04-01            9.636667            8.426667             6.903333  \n",
       "2017-05-01           15.361290           14.270968            12.696774  \n",
       "2017-06-01           20.880000           19.370000            17.333333  \n",
       "2017-07-01           23.925806           22.745161            21.164516  \n",
       "2017-08-01           22.848387           22.193548            21.377419  \n",
       "2017-09-01           19.966667           19.766667            19.530000  \n",
       "2017-10-01           16.370000           16.893333            17.386667  \n",
       "2017-11-01            8.043333            9.633333            11.440000  \n",
       "2017-12-01            2.874194            4.248387             6.019355  \n",
       "\n",
       "[12 rows x 26 columns]"
      ]
     },
     "execution_count": 56,
     "metadata": {},
     "output_type": "execute_result"
    }
   ],
   "source": [
    "rs_obj.mean()"
   ]
  },
  {
   "cell_type": "markdown",
   "metadata": {},
   "source": [
    "We can chain all of that together"
   ]
  },
  {
   "cell_type": "code",
   "execution_count": 57,
   "metadata": {},
   "outputs": [
    {
     "data": {
      "text/plain": [
       "<AxesSubplot:xlabel='LST_DATE'>"
      ]
     },
     "execution_count": 57,
     "metadata": {},
     "output_type": "execute_result"
    },
    {
     "data": {
      "image/png": "[encoded data removed]",
      "text/plain": [
       "<Figure size 432x288 with 1 Axes>"
      ]
     },
     "metadata": {
      "needs_background": "light"
     },
     "output_type": "display_data"
    }
   ],
   "source": [
    "df_mm = df.resample('MS').mean()\n",
    "df_mm[['T_DAILY_MIN', 'T_DAILY_MEAN', 'T_DAILY_MAX']].plot()"
   ]
  },
  {
   "cell_type": "markdown",
   "metadata": {},
   "source": [
    "Next time we will dig deeper into resampling, rolling means, and grouping operations (groupby)."
   ]
  },
  {
   "cell_type": "code",
   "execution_count": null,
   "metadata": {},
   "outputs": [],
   "source": []
  }
 ],
 "metadata": {
  "kernelspec": {
   "display_name": "Python 3 (ipykernel)",
   "language": "python",
   "name": "python3"
  },
  "language_info": {
   "codemirror_mode": {
    "name": "ipython",
    "version": 3
   },
   "file_extension": ".py",
   "mimetype": "text/x-python",
   "name": "python",
   "nbconvert_exporter": "python",
   "pygments_lexer": "ipython3",
   "version": "3.12.4"
  }
 },
 "nbformat": 4,
 "nbformat_minor": 4
}
